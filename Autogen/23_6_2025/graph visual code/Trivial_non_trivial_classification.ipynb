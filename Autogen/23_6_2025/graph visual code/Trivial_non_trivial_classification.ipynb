{
  "nbformat": 4,
  "nbformat_minor": 0,
  "metadata": {
    "colab": {
      "provenance": []
    },
    "kernelspec": {
      "name": "python3",
      "display_name": "Python 3"
    },
    "language_info": {
      "name": "python"
    }
  },
  "cells": [
    {
      "cell_type": "code",
      "execution_count": 1,
      "metadata": {
        "colab": {
          "base_uri": "https://localhost:8080/",
          "height": 1000
        },
        "id": "soccDWOy4ecY",
        "outputId": "fc4df1ba-552d-4c07-888f-24acfaecd6bc"
      },
      "outputs": [
        {
          "output_type": "stream",
          "name": "stdout",
          "text": [
            "Collecting gliclass\n",
            "  Downloading gliclass-0.1.11-py3-none-any.whl.metadata (4.9 kB)\n",
            "Collecting numpy<2.0.0,>=1.26.4 (from gliclass)\n",
            "  Downloading numpy-1.26.4-cp311-cp311-manylinux_2_17_x86_64.manylinux2014_x86_64.whl.metadata (61 kB)\n",
            "\u001b[2K     \u001b[90m━━━━━━━━━━━━━━━━━━━━━━━━━━━━━━━━━━━━━━━\u001b[0m \u001b[32m61.0/61.0 kB\u001b[0m \u001b[31m893.8 kB/s\u001b[0m eta \u001b[36m0:00:00\u001b[0m\n",
            "\u001b[?25hRequirement already satisfied: scikit-learn<2.0.0,>=1.0.0 in /usr/local/lib/python3.11/dist-packages (from gliclass) (1.6.1)\n",
            "Requirement already satisfied: torch<3.0.0,>=2.0.0 in /usr/local/lib/python3.11/dist-packages (from gliclass) (2.6.0+cu124)\n",
            "Collecting transformers<=4.48.2,>=4.37.2 (from gliclass)\n",
            "  Downloading transformers-4.48.2-py3-none-any.whl.metadata (44 kB)\n",
            "\u001b[2K     \u001b[90m━━━━━━━━━━━━━━━━━━━━━━━━━━━━━━━━━━━━━━━\u001b[0m \u001b[32m44.4/44.4 kB\u001b[0m \u001b[31m831.4 kB/s\u001b[0m eta \u001b[36m0:00:00\u001b[0m\n",
            "\u001b[?25hRequirement already satisfied: scipy>=1.6.0 in /usr/local/lib/python3.11/dist-packages (from scikit-learn<2.0.0,>=1.0.0->gliclass) (1.15.3)\n",
            "Requirement already satisfied: joblib>=1.2.0 in /usr/local/lib/python3.11/dist-packages (from scikit-learn<2.0.0,>=1.0.0->gliclass) (1.5.1)\n",
            "Requirement already satisfied: threadpoolctl>=3.1.0 in /usr/local/lib/python3.11/dist-packages (from scikit-learn<2.0.0,>=1.0.0->gliclass) (3.6.0)\n",
            "Requirement already satisfied: filelock in /usr/local/lib/python3.11/dist-packages (from torch<3.0.0,>=2.0.0->gliclass) (3.18.0)\n",
            "Requirement already satisfied: typing-extensions>=4.10.0 in /usr/local/lib/python3.11/dist-packages (from torch<3.0.0,>=2.0.0->gliclass) (4.14.0)\n",
            "Requirement already satisfied: networkx in /usr/local/lib/python3.11/dist-packages (from torch<3.0.0,>=2.0.0->gliclass) (3.5)\n",
            "Requirement already satisfied: jinja2 in /usr/local/lib/python3.11/dist-packages (from torch<3.0.0,>=2.0.0->gliclass) (3.1.6)\n",
            "Requirement already satisfied: fsspec in /usr/local/lib/python3.11/dist-packages (from torch<3.0.0,>=2.0.0->gliclass) (2025.3.2)\n",
            "Collecting nvidia-cuda-nvrtc-cu12==12.4.127 (from torch<3.0.0,>=2.0.0->gliclass)\n",
            "  Downloading nvidia_cuda_nvrtc_cu12-12.4.127-py3-none-manylinux2014_x86_64.whl.metadata (1.5 kB)\n",
            "Collecting nvidia-cuda-runtime-cu12==12.4.127 (from torch<3.0.0,>=2.0.0->gliclass)\n",
            "  Downloading nvidia_cuda_runtime_cu12-12.4.127-py3-none-manylinux2014_x86_64.whl.metadata (1.5 kB)\n",
            "Collecting nvidia-cuda-cupti-cu12==12.4.127 (from torch<3.0.0,>=2.0.0->gliclass)\n",
            "  Downloading nvidia_cuda_cupti_cu12-12.4.127-py3-none-manylinux2014_x86_64.whl.metadata (1.6 kB)\n",
            "Collecting nvidia-cudnn-cu12==9.1.0.70 (from torch<3.0.0,>=2.0.0->gliclass)\n",
            "  Downloading nvidia_cudnn_cu12-9.1.0.70-py3-none-manylinux2014_x86_64.whl.metadata (1.6 kB)\n",
            "Collecting nvidia-cublas-cu12==12.4.5.8 (from torch<3.0.0,>=2.0.0->gliclass)\n",
            "  Downloading nvidia_cublas_cu12-12.4.5.8-py3-none-manylinux2014_x86_64.whl.metadata (1.5 kB)\n",
            "Collecting nvidia-cufft-cu12==11.2.1.3 (from torch<3.0.0,>=2.0.0->gliclass)\n",
            "  Downloading nvidia_cufft_cu12-11.2.1.3-py3-none-manylinux2014_x86_64.whl.metadata (1.5 kB)\n",
            "Collecting nvidia-curand-cu12==10.3.5.147 (from torch<3.0.0,>=2.0.0->gliclass)\n",
            "  Downloading nvidia_curand_cu12-10.3.5.147-py3-none-manylinux2014_x86_64.whl.metadata (1.5 kB)\n",
            "Collecting nvidia-cusolver-cu12==11.6.1.9 (from torch<3.0.0,>=2.0.0->gliclass)\n",
            "  Downloading nvidia_cusolver_cu12-11.6.1.9-py3-none-manylinux2014_x86_64.whl.metadata (1.6 kB)\n",
            "Collecting nvidia-cusparse-cu12==12.3.1.170 (from torch<3.0.0,>=2.0.0->gliclass)\n",
            "  Downloading nvidia_cusparse_cu12-12.3.1.170-py3-none-manylinux2014_x86_64.whl.metadata (1.6 kB)\n",
            "Requirement already satisfied: nvidia-cusparselt-cu12==0.6.2 in /usr/local/lib/python3.11/dist-packages (from torch<3.0.0,>=2.0.0->gliclass) (0.6.2)\n",
            "Requirement already satisfied: nvidia-nccl-cu12==2.21.5 in /usr/local/lib/python3.11/dist-packages (from torch<3.0.0,>=2.0.0->gliclass) (2.21.5)\n",
            "Requirement already satisfied: nvidia-nvtx-cu12==12.4.127 in /usr/local/lib/python3.11/dist-packages (from torch<3.0.0,>=2.0.0->gliclass) (12.4.127)\n",
            "Collecting nvidia-nvjitlink-cu12==12.4.127 (from torch<3.0.0,>=2.0.0->gliclass)\n",
            "  Downloading nvidia_nvjitlink_cu12-12.4.127-py3-none-manylinux2014_x86_64.whl.metadata (1.5 kB)\n",
            "Requirement already satisfied: triton==3.2.0 in /usr/local/lib/python3.11/dist-packages (from torch<3.0.0,>=2.0.0->gliclass) (3.2.0)\n",
            "Requirement already satisfied: sympy==1.13.1 in /usr/local/lib/python3.11/dist-packages (from torch<3.0.0,>=2.0.0->gliclass) (1.13.1)\n",
            "Requirement already satisfied: mpmath<1.4,>=1.1.0 in /usr/local/lib/python3.11/dist-packages (from sympy==1.13.1->torch<3.0.0,>=2.0.0->gliclass) (1.3.0)\n",
            "Requirement already satisfied: huggingface-hub<1.0,>=0.24.0 in /usr/local/lib/python3.11/dist-packages (from transformers<=4.48.2,>=4.37.2->gliclass) (0.33.0)\n",
            "Requirement already satisfied: packaging>=20.0 in /usr/local/lib/python3.11/dist-packages (from transformers<=4.48.2,>=4.37.2->gliclass) (24.2)\n",
            "Requirement already satisfied: pyyaml>=5.1 in /usr/local/lib/python3.11/dist-packages (from transformers<=4.48.2,>=4.37.2->gliclass) (6.0.2)\n",
            "Requirement already satisfied: regex!=2019.12.17 in /usr/local/lib/python3.11/dist-packages (from transformers<=4.48.2,>=4.37.2->gliclass) (2024.11.6)\n",
            "Requirement already satisfied: requests in /usr/local/lib/python3.11/dist-packages (from transformers<=4.48.2,>=4.37.2->gliclass) (2.32.3)\n",
            "Requirement already satisfied: tokenizers<0.22,>=0.21 in /usr/local/lib/python3.11/dist-packages (from transformers<=4.48.2,>=4.37.2->gliclass) (0.21.1)\n",
            "Requirement already satisfied: safetensors>=0.4.1 in /usr/local/lib/python3.11/dist-packages (from transformers<=4.48.2,>=4.37.2->gliclass) (0.5.3)\n",
            "Requirement already satisfied: tqdm>=4.27 in /usr/local/lib/python3.11/dist-packages (from transformers<=4.48.2,>=4.37.2->gliclass) (4.67.1)\n",
            "Requirement already satisfied: hf-xet<2.0.0,>=1.1.2 in /usr/local/lib/python3.11/dist-packages (from huggingface-hub<1.0,>=0.24.0->transformers<=4.48.2,>=4.37.2->gliclass) (1.1.3)\n",
            "Requirement already satisfied: MarkupSafe>=2.0 in /usr/local/lib/python3.11/dist-packages (from jinja2->torch<3.0.0,>=2.0.0->gliclass) (3.0.2)\n",
            "Requirement already satisfied: charset-normalizer<4,>=2 in /usr/local/lib/python3.11/dist-packages (from requests->transformers<=4.48.2,>=4.37.2->gliclass) (3.4.2)\n",
            "Requirement already satisfied: idna<4,>=2.5 in /usr/local/lib/python3.11/dist-packages (from requests->transformers<=4.48.2,>=4.37.2->gliclass) (3.10)\n",
            "Requirement already satisfied: urllib3<3,>=1.21.1 in /usr/local/lib/python3.11/dist-packages (from requests->transformers<=4.48.2,>=4.37.2->gliclass) (2.4.0)\n",
            "Requirement already satisfied: certifi>=2017.4.17 in /usr/local/lib/python3.11/dist-packages (from requests->transformers<=4.48.2,>=4.37.2->gliclass) (2025.6.15)\n",
            "Downloading gliclass-0.1.11-py3-none-any.whl (32 kB)\n",
            "Downloading numpy-1.26.4-cp311-cp311-manylinux_2_17_x86_64.manylinux2014_x86_64.whl (18.3 MB)\n",
            "\u001b[2K   \u001b[90m━━━━━━━━━━━━━━━━━━━━━━━━━━━━━━━━━━━━━━━━\u001b[0m \u001b[32m18.3/18.3 MB\u001b[0m \u001b[31m21.2 MB/s\u001b[0m eta \u001b[36m0:00:00\u001b[0m\n",
            "\u001b[?25hDownloading nvidia_cublas_cu12-12.4.5.8-py3-none-manylinux2014_x86_64.whl (363.4 MB)\n",
            "\u001b[2K   \u001b[90m━━━━━━━━━━━━━━━━━━━━━━━━━━━━━━━━━━━━━━━━\u001b[0m \u001b[32m363.4/363.4 MB\u001b[0m \u001b[31m3.8 MB/s\u001b[0m eta \u001b[36m0:00:00\u001b[0m\n",
            "\u001b[?25hDownloading nvidia_cuda_cupti_cu12-12.4.127-py3-none-manylinux2014_x86_64.whl (13.8 MB)\n",
            "\u001b[2K   \u001b[90m━━━━━━━━━━━━━━━━━━━━━━━━━━━━━━━━━━━━━━━━\u001b[0m \u001b[32m13.8/13.8 MB\u001b[0m \u001b[31m43.2 MB/s\u001b[0m eta \u001b[36m0:00:00\u001b[0m\n",
            "\u001b[?25hDownloading nvidia_cuda_nvrtc_cu12-12.4.127-py3-none-manylinux2014_x86_64.whl (24.6 MB)\n",
            "\u001b[2K   \u001b[90m━━━━━━━━━━━━━━━━━━━━━━━━━━━━━━━━━━━━━━━━\u001b[0m \u001b[32m24.6/24.6 MB\u001b[0m \u001b[31m43.5 MB/s\u001b[0m eta \u001b[36m0:00:00\u001b[0m\n",
            "\u001b[?25hDownloading nvidia_cuda_runtime_cu12-12.4.127-py3-none-manylinux2014_x86_64.whl (883 kB)\n",
            "\u001b[2K   \u001b[90m━━━━━━━━━━━━━━━━━━━━━━━━━━━━━━━━━━━━━━━━\u001b[0m \u001b[32m883.7/883.7 kB\u001b[0m \u001b[31m18.3 MB/s\u001b[0m eta \u001b[36m0:00:00\u001b[0m\n",
            "\u001b[?25hDownloading nvidia_cudnn_cu12-9.1.0.70-py3-none-manylinux2014_x86_64.whl (664.8 MB)\n",
            "\u001b[2K   \u001b[90m━━━━━━━━━━━━━━━━━━━━━━━━━━━━━━━━━━━━━━━━\u001b[0m \u001b[32m664.8/664.8 MB\u001b[0m \u001b[31m2.9 MB/s\u001b[0m eta \u001b[36m0:00:00\u001b[0m\n",
            "\u001b[?25hDownloading nvidia_cufft_cu12-11.2.1.3-py3-none-manylinux2014_x86_64.whl (211.5 MB)\n",
            "\u001b[2K   \u001b[90m━━━━━━━━━━━━━━━━━━━━━━━━━━━━━━━━━━━━━━━━\u001b[0m \u001b[32m211.5/211.5 MB\u001b[0m \u001b[31m5.3 MB/s\u001b[0m eta \u001b[36m0:00:00\u001b[0m\n",
            "\u001b[?25hDownloading nvidia_curand_cu12-10.3.5.147-py3-none-manylinux2014_x86_64.whl (56.3 MB)\n",
            "\u001b[2K   \u001b[90m━━━━━━━━━━━━━━━━━━━━━━━━━━━━━━━━━━━━━━━━\u001b[0m \u001b[32m56.3/56.3 MB\u001b[0m \u001b[31m14.0 MB/s\u001b[0m eta \u001b[36m0:00:00\u001b[0m\n",
            "\u001b[?25hDownloading nvidia_cusolver_cu12-11.6.1.9-py3-none-manylinux2014_x86_64.whl (127.9 MB)\n",
            "\u001b[2K   \u001b[90m━━━━━━━━━━━━━━━━━━━━━━━━━━━━━━━━━━━━━━━━\u001b[0m \u001b[32m127.9/127.9 MB\u001b[0m \u001b[31m6.3 MB/s\u001b[0m eta \u001b[36m0:00:00\u001b[0m\n",
            "\u001b[?25hDownloading nvidia_cusparse_cu12-12.3.1.170-py3-none-manylinux2014_x86_64.whl (207.5 MB)\n",
            "\u001b[2K   \u001b[90m━━━━━━━━━━━━━━━━━━━━━━━━━━━━━━━━━━━━━━━━\u001b[0m \u001b[32m207.5/207.5 MB\u001b[0m \u001b[31m4.0 MB/s\u001b[0m eta \u001b[36m0:00:00\u001b[0m\n",
            "\u001b[?25hDownloading nvidia_nvjitlink_cu12-12.4.127-py3-none-manylinux2014_x86_64.whl (21.1 MB)\n",
            "\u001b[2K   \u001b[90m━━━━━━━━━━━━━━━━━━━━━━━━━━━━━━━━━━━━━━━━\u001b[0m \u001b[32m21.1/21.1 MB\u001b[0m \u001b[31m57.1 MB/s\u001b[0m eta \u001b[36m0:00:00\u001b[0m\n",
            "\u001b[?25hDownloading transformers-4.48.2-py3-none-any.whl (9.7 MB)\n",
            "\u001b[2K   \u001b[90m━━━━━━━━━━━━━━━━━━━━━━━━━━━━━━━━━━━━━━━━\u001b[0m \u001b[32m9.7/9.7 MB\u001b[0m \u001b[31m76.4 MB/s\u001b[0m eta \u001b[36m0:00:00\u001b[0m\n",
            "\u001b[?25hInstalling collected packages: nvidia-nvjitlink-cu12, nvidia-curand-cu12, nvidia-cufft-cu12, nvidia-cuda-runtime-cu12, nvidia-cuda-nvrtc-cu12, nvidia-cuda-cupti-cu12, nvidia-cublas-cu12, numpy, nvidia-cusparse-cu12, nvidia-cudnn-cu12, nvidia-cusolver-cu12, transformers, gliclass\n",
            "  Attempting uninstall: nvidia-nvjitlink-cu12\n",
            "    Found existing installation: nvidia-nvjitlink-cu12 12.5.82\n",
            "    Uninstalling nvidia-nvjitlink-cu12-12.5.82:\n",
            "      Successfully uninstalled nvidia-nvjitlink-cu12-12.5.82\n",
            "  Attempting uninstall: nvidia-curand-cu12\n",
            "    Found existing installation: nvidia-curand-cu12 10.3.6.82\n",
            "    Uninstalling nvidia-curand-cu12-10.3.6.82:\n",
            "      Successfully uninstalled nvidia-curand-cu12-10.3.6.82\n",
            "  Attempting uninstall: nvidia-cufft-cu12\n",
            "    Found existing installation: nvidia-cufft-cu12 11.2.3.61\n",
            "    Uninstalling nvidia-cufft-cu12-11.2.3.61:\n",
            "      Successfully uninstalled nvidia-cufft-cu12-11.2.3.61\n",
            "  Attempting uninstall: nvidia-cuda-runtime-cu12\n",
            "    Found existing installation: nvidia-cuda-runtime-cu12 12.5.82\n",
            "    Uninstalling nvidia-cuda-runtime-cu12-12.5.82:\n",
            "      Successfully uninstalled nvidia-cuda-runtime-cu12-12.5.82\n",
            "  Attempting uninstall: nvidia-cuda-nvrtc-cu12\n",
            "    Found existing installation: nvidia-cuda-nvrtc-cu12 12.5.82\n",
            "    Uninstalling nvidia-cuda-nvrtc-cu12-12.5.82:\n",
            "      Successfully uninstalled nvidia-cuda-nvrtc-cu12-12.5.82\n",
            "  Attempting uninstall: nvidia-cuda-cupti-cu12\n",
            "    Found existing installation: nvidia-cuda-cupti-cu12 12.5.82\n",
            "    Uninstalling nvidia-cuda-cupti-cu12-12.5.82:\n",
            "      Successfully uninstalled nvidia-cuda-cupti-cu12-12.5.82\n",
            "  Attempting uninstall: nvidia-cublas-cu12\n",
            "    Found existing installation: nvidia-cublas-cu12 12.5.3.2\n",
            "    Uninstalling nvidia-cublas-cu12-12.5.3.2:\n",
            "      Successfully uninstalled nvidia-cublas-cu12-12.5.3.2\n",
            "  Attempting uninstall: numpy\n",
            "    Found existing installation: numpy 2.0.2\n",
            "    Uninstalling numpy-2.0.2:\n",
            "      Successfully uninstalled numpy-2.0.2\n",
            "  Attempting uninstall: nvidia-cusparse-cu12\n",
            "    Found existing installation: nvidia-cusparse-cu12 12.5.1.3\n",
            "    Uninstalling nvidia-cusparse-cu12-12.5.1.3:\n",
            "      Successfully uninstalled nvidia-cusparse-cu12-12.5.1.3\n",
            "  Attempting uninstall: nvidia-cudnn-cu12\n",
            "    Found existing installation: nvidia-cudnn-cu12 9.3.0.75\n",
            "    Uninstalling nvidia-cudnn-cu12-9.3.0.75:\n",
            "      Successfully uninstalled nvidia-cudnn-cu12-9.3.0.75\n",
            "  Attempting uninstall: nvidia-cusolver-cu12\n",
            "    Found existing installation: nvidia-cusolver-cu12 11.6.3.83\n",
            "    Uninstalling nvidia-cusolver-cu12-11.6.3.83:\n",
            "      Successfully uninstalled nvidia-cusolver-cu12-11.6.3.83\n",
            "  Attempting uninstall: transformers\n",
            "    Found existing installation: transformers 4.52.4\n",
            "    Uninstalling transformers-4.52.4:\n",
            "      Successfully uninstalled transformers-4.52.4\n",
            "\u001b[31mERROR: pip's dependency resolver does not currently take into account all the packages that are installed. This behaviour is the source of the following dependency conflicts.\n",
            "thinc 8.3.6 requires numpy<3.0.0,>=2.0.0, but you have numpy 1.26.4 which is incompatible.\u001b[0m\u001b[31m\n",
            "\u001b[0mSuccessfully installed gliclass-0.1.11 numpy-1.26.4 nvidia-cublas-cu12-12.4.5.8 nvidia-cuda-cupti-cu12-12.4.127 nvidia-cuda-nvrtc-cu12-12.4.127 nvidia-cuda-runtime-cu12-12.4.127 nvidia-cudnn-cu12-9.1.0.70 nvidia-cufft-cu12-11.2.1.3 nvidia-curand-cu12-10.3.5.147 nvidia-cusolver-cu12-11.6.1.9 nvidia-cusparse-cu12-12.3.1.170 nvidia-nvjitlink-cu12-12.4.127 transformers-4.48.2\n"
          ]
        },
        {
          "output_type": "display_data",
          "data": {
            "application/vnd.colab-display-data+json": {
              "pip_warning": {
                "packages": [
                  "numpy"
                ]
              },
              "id": "d2bf053cd96645b48aa3507846d42cdb"
            }
          },
          "metadata": {}
        }
      ],
      "source": [
        "pip install gliclass"
      ]
    },
    {
      "cell_type": "code",
      "source": [
        "from gliclass import GLiClassModel, ZeroShotClassificationPipeline\n",
        "from transformers import AutoTokenizer\n",
        "\n",
        "# Load model and tokenizer\n",
        "model = GLiClassModel.from_pretrained(\"knowledgator/gliclass-large-v1.0\")\n",
        "tokenizer = AutoTokenizer.from_pretrained(\"knowledgator/gliclass-large-v1.0\")\n",
        "\n",
        "# Initialize pipeline\n",
        "pipeline = ZeroShotClassificationPipeline(\n",
        "    model, tokenizer, classification_type='multi-label', device='cuda:0'\n",
        ")\n",
        "\n",
        "# Input queries and labels\n",
        "queries = [\n",
        "    \"@$%?\"\n",
        "    \"abcd\",\n",
        "    \"Hi\",\n",
        "    \"!!!\",\n",
        "    \"What is 2+2?\",\n",
        "    \"How do I build a RAG system with multimodal embeddings?\",\n",
        "    \"Hi there!\",\n",
        "    \"Write a function to simulate drone trajectory with wind drag\",\n",
        "    \"Who is the president of USA?\",\n",
        "]\n",
        "labels = [\"trivial\", \"non-trivial\", \"greetings\", \"alphabets\",\"letters\",\"symbols\",\"numbers\",\"greetings\",\"research\"]\n",
        "\n",
        "# Run classification\n",
        "for i in queries:\n",
        "    results = pipeline(i, labels, threshold=0.5)[0]  # Because we have one text\n",
        "    # Sort results by score in descending order\n",
        "    sorted_results = sorted(results, key=lambda x: x[\"score\"], reverse=True)\n",
        "    for result in sorted_results:\n",
        "        print(result[\"label\"], \"=>\", result[\"score\"])\n",
        "    print(\"-----------End----------------\")\n",
        ""
      ],
      "metadata": {
        "colab": {
          "base_uri": "https://localhost:8080/"
        },
        "id": "aqqaHMky4lQv",
        "outputId": "29f0c4b0-1be8-4be5-8824-d51474d076ba"
      },
      "execution_count": 3,
      "outputs": [
        {
          "output_type": "stream",
          "name": "stderr",
          "text": [
            "100%|██████████| 1/1 [00:03<00:00,  3.71s/it]\n"
          ]
        },
        {
          "output_type": "stream",
          "name": "stdout",
          "text": [
            "trivial => 0.9999985694885254\n",
            "letters => 0.9999978542327881\n",
            "alphabets => 0.9999971389770508\n",
            "greetings => 0.9999967813491821\n",
            "research => 0.9999812841415405\n",
            "symbols => 0.9999785423278809\n",
            "greetings => 0.9999773502349854\n",
            "non-trivial => 0.9999568462371826\n",
            "numbers => 0.9999101161956787\n",
            "-----------End----------------\n"
          ]
        },
        {
          "output_type": "stream",
          "name": "stderr",
          "text": [
            "100%|██████████| 1/1 [00:01<00:00,  1.32s/it]\n"
          ]
        },
        {
          "output_type": "stream",
          "name": "stdout",
          "text": [
            "greetings => 0.9999994039535522\n",
            "greetings => 0.9999992847442627\n",
            "trivial => 0.9999977350234985\n",
            "letters => 0.9999940395355225\n",
            "symbols => 0.999962329864502\n",
            "alphabets => 0.9999384880065918\n",
            "non-trivial => 0.9999287128448486\n",
            "research => 0.9999285936355591\n",
            "numbers => 0.9995632767677307\n",
            "-----------End----------------\n"
          ]
        },
        {
          "output_type": "stream",
          "name": "stderr",
          "text": [
            "100%|██████████| 1/1 [00:01<00:00,  1.31s/it]\n"
          ]
        },
        {
          "output_type": "stream",
          "name": "stdout",
          "text": [
            "trivial => 0.9999974966049194\n",
            "greetings => 0.9999969005584717\n",
            "letters => 0.9999901056289673\n",
            "symbols => 0.9999880790710449\n",
            "research => 0.9999790191650391\n",
            "greetings => 0.999977707862854\n",
            "non-trivial => 0.9999765157699585\n",
            "alphabets => 0.9998859167098999\n",
            "numbers => 0.9996824264526367\n",
            "-----------End----------------\n"
          ]
        },
        {
          "output_type": "stream",
          "name": "stderr",
          "text": [
            "100%|██████████| 1/1 [00:01<00:00,  1.32s/it]\n"
          ]
        },
        {
          "output_type": "stream",
          "name": "stdout",
          "text": [
            "numbers => 0.9999994039535522\n",
            "trivial => 0.9999992847442627\n",
            "greetings => 0.9999854564666748\n",
            "symbols => 0.9999665021896362\n",
            "letters => 0.9999376535415649\n",
            "non-trivial => 0.9998236298561096\n",
            "greetings => 0.9998118281364441\n",
            "research => 0.9990476965904236\n",
            "alphabets => 0.9979428648948669\n",
            "-----------End----------------\n"
          ]
        },
        {
          "output_type": "stream",
          "name": "stderr",
          "text": [
            "100%|██████████| 1/1 [00:01<00:00,  1.44s/it]\n"
          ]
        },
        {
          "output_type": "stream",
          "name": "stdout",
          "text": [
            "research => 0.9999988079071045\n",
            "non-trivial => 0.9999982118606567\n",
            "symbols => 0.9999974966049194\n",
            "greetings => 0.9998680353164673\n",
            "trivial => 0.9989783763885498\n",
            "greetings => 0.9982455968856812\n",
            "letters => 0.9971711039543152\n",
            "alphabets => 0.9806535840034485\n",
            "numbers => 0.9792742133140564\n",
            "-----------End----------------\n"
          ]
        },
        {
          "output_type": "stream",
          "name": "stderr",
          "text": [
            "100%|██████████| 1/1 [00:01<00:00,  1.31s/it]\n"
          ]
        },
        {
          "output_type": "stream",
          "name": "stdout",
          "text": [
            "greetings => 0.9999994039535522\n",
            "greetings => 0.9999992847442627\n",
            "trivial => 0.9999990463256836\n",
            "letters => 0.9999943971633911\n",
            "symbols => 0.9999711513519287\n",
            "alphabets => 0.9999345541000366\n",
            "non-trivial => 0.9998759031295776\n",
            "numbers => 0.9989458918571472\n",
            "research => 0.9987803101539612\n",
            "-----------End----------------\n"
          ]
        },
        {
          "output_type": "stream",
          "name": "stderr",
          "text": [
            "100%|██████████| 1/1 [00:01<00:00,  1.39s/it]\n"
          ]
        },
        {
          "output_type": "stream",
          "name": "stdout",
          "text": [
            "trivial => 0.9999953508377075\n",
            "non-trivial => 0.9999871253967285\n",
            "greetings => 0.9999852180480957\n",
            "symbols => 0.9999784231185913\n",
            "greetings => 0.9997817873954773\n",
            "letters => 0.9996552467346191\n",
            "research => 0.99957674741745\n",
            "numbers => 0.9991638660430908\n",
            "alphabets => 0.9931489825248718\n",
            "-----------End----------------\n"
          ]
        },
        {
          "output_type": "stream",
          "name": "stderr",
          "text": [
            "100%|██████████| 1/1 [00:01<00:00,  1.37s/it]"
          ]
        },
        {
          "output_type": "stream",
          "name": "stdout",
          "text": [
            "trivial => 0.9999990463256836\n",
            "letters => 0.9999923706054688\n",
            "greetings => 0.9999902248382568\n",
            "non-trivial => 0.9999797344207764\n",
            "greetings => 0.9998633861541748\n",
            "alphabets => 0.9998481273651123\n",
            "symbols => 0.9995039701461792\n",
            "research => 0.9981518387794495\n",
            "numbers => 0.9923533797264099\n",
            "-----------End----------------\n"
          ]
        },
        {
          "output_type": "stream",
          "name": "stderr",
          "text": [
            "\n"
          ]
        }
      ]
    },
    {
      "cell_type": "code",
      "source": [
        "pip install gradio pandas altair"
      ],
      "metadata": {
        "colab": {
          "base_uri": "https://localhost:8080/"
        },
        "id": "e79JS6fq88Ia",
        "outputId": "e7ca46ce-64c4-418f-e43f-204e1e2ac3be"
      },
      "execution_count": 6,
      "outputs": [
        {
          "output_type": "stream",
          "name": "stdout",
          "text": [
            "Requirement already satisfied: gradio in /usr/local/lib/python3.11/dist-packages (5.31.0)\n",
            "Requirement already satisfied: pandas in /usr/local/lib/python3.11/dist-packages (2.2.2)\n",
            "Requirement already satisfied: altair in /usr/local/lib/python3.11/dist-packages (5.5.0)\n",
            "Requirement already satisfied: aiofiles<25.0,>=22.0 in /usr/local/lib/python3.11/dist-packages (from gradio) (24.1.0)\n",
            "Requirement already satisfied: anyio<5.0,>=3.0 in /usr/local/lib/python3.11/dist-packages (from gradio) (4.9.0)\n",
            "Requirement already satisfied: fastapi<1.0,>=0.115.2 in /usr/local/lib/python3.11/dist-packages (from gradio) (0.115.12)\n",
            "Requirement already satisfied: ffmpy in /usr/local/lib/python3.11/dist-packages (from gradio) (0.6.0)\n",
            "Requirement already satisfied: gradio-client==1.10.1 in /usr/local/lib/python3.11/dist-packages (from gradio) (1.10.1)\n",
            "Requirement already satisfied: groovy~=0.1 in /usr/local/lib/python3.11/dist-packages (from gradio) (0.1.2)\n",
            "Requirement already satisfied: httpx>=0.24.1 in /usr/local/lib/python3.11/dist-packages (from gradio) (0.28.1)\n",
            "Requirement already satisfied: huggingface-hub>=0.28.1 in /usr/local/lib/python3.11/dist-packages (from gradio) (0.33.0)\n",
            "Requirement already satisfied: jinja2<4.0 in /usr/local/lib/python3.11/dist-packages (from gradio) (3.1.6)\n",
            "Requirement already satisfied: markupsafe<4.0,>=2.0 in /usr/local/lib/python3.11/dist-packages (from gradio) (3.0.2)\n",
            "Requirement already satisfied: numpy<3.0,>=1.0 in /usr/local/lib/python3.11/dist-packages (from gradio) (1.26.4)\n",
            "Requirement already satisfied: orjson~=3.0 in /usr/local/lib/python3.11/dist-packages (from gradio) (3.10.18)\n",
            "Requirement already satisfied: packaging in /usr/local/lib/python3.11/dist-packages (from gradio) (24.2)\n",
            "Requirement already satisfied: pillow<12.0,>=8.0 in /usr/local/lib/python3.11/dist-packages (from gradio) (11.2.1)\n",
            "Requirement already satisfied: pydantic<2.12,>=2.0 in /usr/local/lib/python3.11/dist-packages (from gradio) (2.11.7)\n",
            "Requirement already satisfied: pydub in /usr/local/lib/python3.11/dist-packages (from gradio) (0.25.1)\n",
            "Requirement already satisfied: python-multipart>=0.0.18 in /usr/local/lib/python3.11/dist-packages (from gradio) (0.0.20)\n",
            "Requirement already satisfied: pyyaml<7.0,>=5.0 in /usr/local/lib/python3.11/dist-packages (from gradio) (6.0.2)\n",
            "Requirement already satisfied: ruff>=0.9.3 in /usr/local/lib/python3.11/dist-packages (from gradio) (0.11.13)\n",
            "Requirement already satisfied: safehttpx<0.2.0,>=0.1.6 in /usr/local/lib/python3.11/dist-packages (from gradio) (0.1.6)\n",
            "Requirement already satisfied: semantic-version~=2.0 in /usr/local/lib/python3.11/dist-packages (from gradio) (2.10.0)\n",
            "Requirement already satisfied: starlette<1.0,>=0.40.0 in /usr/local/lib/python3.11/dist-packages (from gradio) (0.46.2)\n",
            "Requirement already satisfied: tomlkit<0.14.0,>=0.12.0 in /usr/local/lib/python3.11/dist-packages (from gradio) (0.13.3)\n",
            "Requirement already satisfied: typer<1.0,>=0.12 in /usr/local/lib/python3.11/dist-packages (from gradio) (0.16.0)\n",
            "Requirement already satisfied: typing-extensions~=4.0 in /usr/local/lib/python3.11/dist-packages (from gradio) (4.14.0)\n",
            "Requirement already satisfied: uvicorn>=0.14.0 in /usr/local/lib/python3.11/dist-packages (from gradio) (0.34.3)\n",
            "Requirement already satisfied: fsspec in /usr/local/lib/python3.11/dist-packages (from gradio-client==1.10.1->gradio) (2025.3.2)\n",
            "Requirement already satisfied: websockets<16.0,>=10.0 in /usr/local/lib/python3.11/dist-packages (from gradio-client==1.10.1->gradio) (15.0.1)\n",
            "Requirement already satisfied: python-dateutil>=2.8.2 in /usr/local/lib/python3.11/dist-packages (from pandas) (2.9.0.post0)\n",
            "Requirement already satisfied: pytz>=2020.1 in /usr/local/lib/python3.11/dist-packages (from pandas) (2025.2)\n",
            "Requirement already satisfied: tzdata>=2022.7 in /usr/local/lib/python3.11/dist-packages (from pandas) (2025.2)\n",
            "Requirement already satisfied: jsonschema>=3.0 in /usr/local/lib/python3.11/dist-packages (from altair) (4.24.0)\n",
            "Requirement already satisfied: narwhals>=1.14.2 in /usr/local/lib/python3.11/dist-packages (from altair) (1.43.0)\n",
            "Requirement already satisfied: idna>=2.8 in /usr/local/lib/python3.11/dist-packages (from anyio<5.0,>=3.0->gradio) (3.10)\n",
            "Requirement already satisfied: sniffio>=1.1 in /usr/local/lib/python3.11/dist-packages (from anyio<5.0,>=3.0->gradio) (1.3.1)\n",
            "Requirement already satisfied: certifi in /usr/local/lib/python3.11/dist-packages (from httpx>=0.24.1->gradio) (2025.6.15)\n",
            "Requirement already satisfied: httpcore==1.* in /usr/local/lib/python3.11/dist-packages (from httpx>=0.24.1->gradio) (1.0.9)\n",
            "Requirement already satisfied: h11>=0.16 in /usr/local/lib/python3.11/dist-packages (from httpcore==1.*->httpx>=0.24.1->gradio) (0.16.0)\n",
            "Requirement already satisfied: filelock in /usr/local/lib/python3.11/dist-packages (from huggingface-hub>=0.28.1->gradio) (3.18.0)\n",
            "Requirement already satisfied: requests in /usr/local/lib/python3.11/dist-packages (from huggingface-hub>=0.28.1->gradio) (2.32.3)\n",
            "Requirement already satisfied: tqdm>=4.42.1 in /usr/local/lib/python3.11/dist-packages (from huggingface-hub>=0.28.1->gradio) (4.67.1)\n",
            "Requirement already satisfied: hf-xet<2.0.0,>=1.1.2 in /usr/local/lib/python3.11/dist-packages (from huggingface-hub>=0.28.1->gradio) (1.1.3)\n",
            "Requirement already satisfied: attrs>=22.2.0 in /usr/local/lib/python3.11/dist-packages (from jsonschema>=3.0->altair) (25.3.0)\n",
            "Requirement already satisfied: jsonschema-specifications>=2023.03.6 in /usr/local/lib/python3.11/dist-packages (from jsonschema>=3.0->altair) (2025.4.1)\n",
            "Requirement already satisfied: referencing>=0.28.4 in /usr/local/lib/python3.11/dist-packages (from jsonschema>=3.0->altair) (0.36.2)\n",
            "Requirement already satisfied: rpds-py>=0.7.1 in /usr/local/lib/python3.11/dist-packages (from jsonschema>=3.0->altair) (0.25.1)\n",
            "Requirement already satisfied: annotated-types>=0.6.0 in /usr/local/lib/python3.11/dist-packages (from pydantic<2.12,>=2.0->gradio) (0.7.0)\n",
            "Requirement already satisfied: pydantic-core==2.33.2 in /usr/local/lib/python3.11/dist-packages (from pydantic<2.12,>=2.0->gradio) (2.33.2)\n",
            "Requirement already satisfied: typing-inspection>=0.4.0 in /usr/local/lib/python3.11/dist-packages (from pydantic<2.12,>=2.0->gradio) (0.4.1)\n",
            "Requirement already satisfied: six>=1.5 in /usr/local/lib/python3.11/dist-packages (from python-dateutil>=2.8.2->pandas) (1.17.0)\n",
            "Requirement already satisfied: click>=8.0.0 in /usr/local/lib/python3.11/dist-packages (from typer<1.0,>=0.12->gradio) (8.2.1)\n",
            "Requirement already satisfied: shellingham>=1.3.0 in /usr/local/lib/python3.11/dist-packages (from typer<1.0,>=0.12->gradio) (1.5.4)\n",
            "Requirement already satisfied: rich>=10.11.0 in /usr/local/lib/python3.11/dist-packages (from typer<1.0,>=0.12->gradio) (13.9.4)\n",
            "Requirement already satisfied: markdown-it-py>=2.2.0 in /usr/local/lib/python3.11/dist-packages (from rich>=10.11.0->typer<1.0,>=0.12->gradio) (3.0.0)\n",
            "Requirement already satisfied: pygments<3.0.0,>=2.13.0 in /usr/local/lib/python3.11/dist-packages (from rich>=10.11.0->typer<1.0,>=0.12->gradio) (2.19.1)\n",
            "Requirement already satisfied: charset-normalizer<4,>=2 in /usr/local/lib/python3.11/dist-packages (from requests->huggingface-hub>=0.28.1->gradio) (3.4.2)\n",
            "Requirement already satisfied: urllib3<3,>=1.21.1 in /usr/local/lib/python3.11/dist-packages (from requests->huggingface-hub>=0.28.1->gradio) (2.4.0)\n",
            "Requirement already satisfied: mdurl~=0.1 in /usr/local/lib/python3.11/dist-packages (from markdown-it-py>=2.2.0->rich>=10.11.0->typer<1.0,>=0.12->gradio) (0.1.2)\n"
          ]
        }
      ]
    },
    {
      "cell_type": "code",
      "source": [
        "import gradio as gr\n",
        "import pandas as pd\n",
        "import altair as alt\n",
        "import time\n",
        "\n",
        "# This dictionary defines the color for each status\n",
        "STATUS_COLORS = {\n",
        "    \"pending\": \"lightgray\",\n",
        "    \"running\": \"orange\",\n",
        "    \"processing\": \"gold\",\n",
        "    \"completed\": \"green\",\n",
        "    \"failed\": \"red\"\n",
        "}\n",
        "\n",
        "def agentic_process_simulation(task_id):\n",
        "    \"\"\"\n",
        "    Simulates an agentic process.\n",
        "    Yields the status at each step.\n",
        "    \"\"\"\n",
        "    states = [\"pending\", \"running\", \"processing\", \"completed\"]\n",
        "    # We add a little logic to show how a failure might look\n",
        "    if task_id == 0:\n",
        "        states = [\"pending\", \"running\", \"failed\"]\n",
        "\n",
        "    for state in states:\n",
        "        # Yield the current state and a list of all states up to this point\n",
        "        yield state\n",
        "        time.sleep(1.5) # Simulate work being done\n",
        "\n",
        "def update_visualization(task_id):\n",
        "    \"\"\"\n",
        "    This function runs the simulation and generates the outputs for the UI.\n",
        "    It yields updates progressively.\n",
        "    \"\"\"\n",
        "\n",
        "    all_states = []\n",
        "    # Loop through the simulated process step-by-step\n",
        "    for status in agentic_process_simulation(task_id):\n",
        "        all_states.append(status)\n",
        "\n",
        "        # --- 1. Prepare data for the DataFrame component ---\n",
        "        # This shows the textual status list\n",
        "        df_data = pd.DataFrame({\n",
        "            \"Step\": range(1, len(all_states) + 1),\n",
        "            \"Status\": all_states\n",
        "        })\n",
        "\n",
        "        # --- 2. Prepare data and create the Plot using Altair ---\n",
        "        # We create a DataFrame for the plot\n",
        "        plot_df = pd.DataFrame({\n",
        "            'step': range(1, len(all_states) + 1),\n",
        "            'status': all_states,\n",
        "            # Create a constant y-value to draw a straight horizontal line\n",
        "            'y_axis': [1] * len(all_states),\n",
        "            'tooltip': [f\"Step {i+1}: {s}\" for i, s in enumerate(all_states)]\n",
        "        })\n",
        "\n",
        "        # Create the line chart\n",
        "        line = alt.Chart(plot_df).mark_line(point=True, size=3).encode(\n",
        "            x=alt.X('step:Q', title='Process Step'),\n",
        "            y=alt.Y('y_axis:Q', axis=None), # Hide the Y-axis as it's not meaningful\n",
        "            tooltip='tooltip:N' # Show tooltip on hover\n",
        "        ).properties(\n",
        "            title=\"Agentic Process Flow\"\n",
        "        )\n",
        "\n",
        "        # Create the colored points on the line\n",
        "        points = alt.Chart(plot_df).mark_point(size=150, filled=True).encode(\n",
        "            x=alt.X('step:Q', title='Process Step'),\n",
        "            y=alt.Y('y_axis:Q', axis=None),\n",
        "            # This is the key part: Color the points based on status\n",
        "            color=alt.Color('status:N',\n",
        "                scale=alt.Scale(\n",
        "                    domain=list(STATUS_COLORS.keys()),\n",
        "                    range=list(STATUS_COLORS.values())\n",
        "                ),\n",
        "                legend=None # We hide the legend for a cleaner look\n",
        "            ),\n",
        "            tooltip='tooltip:N'\n",
        "        )\n",
        "\n",
        "        # Layer the line and points together\n",
        "        final_chart = line + points\n",
        "\n",
        "        # Yield the updated DataFrame and the plot\n",
        "        yield df_data, final_chart\n",
        "\n",
        "\n",
        "with gr.Blocks(theme=gr.themes.Soft()) as demo:\n",
        "    gr.Markdown(\"# Agentic Process Visualization\")\n",
        "    gr.Markdown(\"Enter a Task ID and watch the process unfold. The colored dots on the line chart represent the status at each step. (Try Task ID 0 for a failure case).\")\n",
        "\n",
        "    with gr.Row():\n",
        "        task_id_input = gr.Number(label=\"Task ID\", value=1)\n",
        "        start_button = gr.Button(\"Start Process\", variant=\"primary\")\n",
        "\n",
        "    with gr.Row():\n",
        "        process_output_df = gr.DataFrame(label=\"Process Log\", headers=[\"Step\", \"Status\"], interactive=False)\n",
        "        status_plot = gr.Plot(label=\"Status Visualization\")\n",
        "\n",
        "    # When the button is clicked, call the update function\n",
        "    start_button.click(\n",
        "        fn=update_visualization,\n",
        "        inputs=task_id_input,\n",
        "        outputs=[process_output_df, status_plot]\n",
        "    )\n",
        "\n",
        "demo.launch(debug=True)"
      ],
      "metadata": {
        "colab": {
          "base_uri": "https://localhost:8080/",
          "height": 680
        },
        "id": "sOJ-wkGY8eAo",
        "outputId": "2a2bdbf0-a99d-4259-a383-8561318d273a"
      },
      "execution_count": 7,
      "outputs": [
        {
          "output_type": "stream",
          "name": "stdout",
          "text": [
            "It looks like you are running Gradio on a hosted a Jupyter notebook. For the Gradio app to work, sharing must be enabled. Automatically setting `share=True` (you can turn this off by setting `share=False` in `launch()` explicitly).\n",
            "\n",
            "Colab notebook detected. This cell will run indefinitely so that you can see errors and logs. To turn off, set debug=False in launch().\n",
            "* Running on public URL: https://04d3726f0113fa9f72.gradio.live\n",
            "\n",
            "This share link expires in 1 week. For free permanent hosting and GPU upgrades, run `gradio deploy` from the terminal in the working directory to deploy to Hugging Face Spaces (https://huggingface.co/spaces)\n"
          ]
        },
        {
          "output_type": "display_data",
          "data": {
            "text/plain": [
              "<IPython.core.display.HTML object>"
            ],
            "text/html": [
              "<div><iframe src=\"https://04d3726f0113fa9f72.gradio.live\" width=\"100%\" height=\"500\" allow=\"autoplay; camera; microphone; clipboard-read; clipboard-write;\" frameborder=\"0\" allowfullscreen></iframe></div>"
            ]
          },
          "metadata": {}
        },
        {
          "output_type": "stream",
          "name": "stdout",
          "text": [
            "Keyboard interruption in main thread... closing server.\n",
            "Killing tunnel 127.0.0.1:7860 <> https://04d3726f0113fa9f72.gradio.live\n"
          ]
        },
        {
          "output_type": "execute_result",
          "data": {
            "text/plain": []
          },
          "metadata": {},
          "execution_count": 7
        }
      ]
    },
    {
      "cell_type": "code",
      "source": [
        "# Cell 1: Install all required packages\n",
        "!apt-get update\n",
        "!apt-get install -y graphviz\n",
        "!pip install gradio graphviz"
      ],
      "metadata": {
        "colab": {
          "base_uri": "https://localhost:8080/"
        },
        "id": "J7ePjTVa9p0A",
        "outputId": "30d02db0-8132-4d23-c717-6bd0f27cbdf3"
      },
      "execution_count": 8,
      "outputs": [
        {
          "output_type": "stream",
          "name": "stdout",
          "text": [
            "\r0% [Working]\r            \rHit:1 https://developer.download.nvidia.com/compute/cuda/repos/ubuntu2204/x86_64  InRelease\n",
            "Get:2 https://cloud.r-project.org/bin/linux/ubuntu jammy-cran40/ InRelease [3,632 B]\n",
            "Get:3 http://security.ubuntu.com/ubuntu jammy-security InRelease [129 kB]\n",
            "Get:4 https://r2u.stat.illinois.edu/ubuntu jammy InRelease [6,555 B]\n",
            "Get:5 https://r2u.stat.illinois.edu/ubuntu jammy/main amd64 Packages [2,747 kB]\n",
            "Hit:6 http://archive.ubuntu.com/ubuntu jammy InRelease\n",
            "Get:7 http://archive.ubuntu.com/ubuntu jammy-updates InRelease [128 kB]\n",
            "Hit:8 https://ppa.launchpadcontent.net/deadsnakes/ppa/ubuntu jammy InRelease\n",
            "Hit:9 https://ppa.launchpadcontent.net/graphics-drivers/ppa/ubuntu jammy InRelease\n",
            "Get:10 http://archive.ubuntu.com/ubuntu jammy-backports InRelease [127 kB]\n",
            "Get:11 https://r2u.stat.illinois.edu/ubuntu jammy/main all Packages [9,053 kB]\n",
            "Hit:12 https://ppa.launchpadcontent.net/ubuntugis/ppa/ubuntu jammy InRelease\n",
            "Get:13 http://security.ubuntu.com/ubuntu jammy-security/restricted amd64 Packages [4,532 kB]\n",
            "Get:14 http://archive.ubuntu.com/ubuntu jammy-updates/main amd64 Packages [3,340 kB]\n",
            "Get:15 http://archive.ubuntu.com/ubuntu jammy-updates/restricted amd64 Packages [4,703 kB]\n",
            "Get:16 http://archive.ubuntu.com/ubuntu jammy-updates/universe amd64 Packages [1,561 kB]\n",
            "Get:17 http://security.ubuntu.com/ubuntu jammy-security/universe amd64 Packages [1,253 kB]\n",
            "Get:18 http://security.ubuntu.com/ubuntu jammy-security/main amd64 Packages [3,024 kB]\n",
            "Fetched 30.6 MB in 3s (8,811 kB/s)\n",
            "Reading package lists... Done\n",
            "W: Skipping acquire of configured file 'main/source/Sources' as repository 'https://r2u.stat.illinois.edu/ubuntu jammy InRelease' does not seem to provide it (sources.list entry misspelt?)\n",
            "Reading package lists... Done\n",
            "Building dependency tree... Done\n",
            "Reading state information... Done\n",
            "graphviz is already the newest version (2.42.2-6ubuntu0.1).\n",
            "0 upgraded, 0 newly installed, 0 to remove and 37 not upgraded.\n",
            "Requirement already satisfied: gradio in /usr/local/lib/python3.11/dist-packages (5.31.0)\n",
            "Requirement already satisfied: graphviz in /usr/local/lib/python3.11/dist-packages (0.21)\n",
            "Requirement already satisfied: aiofiles<25.0,>=22.0 in /usr/local/lib/python3.11/dist-packages (from gradio) (24.1.0)\n",
            "Requirement already satisfied: anyio<5.0,>=3.0 in /usr/local/lib/python3.11/dist-packages (from gradio) (4.9.0)\n",
            "Requirement already satisfied: fastapi<1.0,>=0.115.2 in /usr/local/lib/python3.11/dist-packages (from gradio) (0.115.12)\n",
            "Requirement already satisfied: ffmpy in /usr/local/lib/python3.11/dist-packages (from gradio) (0.6.0)\n",
            "Requirement already satisfied: gradio-client==1.10.1 in /usr/local/lib/python3.11/dist-packages (from gradio) (1.10.1)\n",
            "Requirement already satisfied: groovy~=0.1 in /usr/local/lib/python3.11/dist-packages (from gradio) (0.1.2)\n",
            "Requirement already satisfied: httpx>=0.24.1 in /usr/local/lib/python3.11/dist-packages (from gradio) (0.28.1)\n",
            "Requirement already satisfied: huggingface-hub>=0.28.1 in /usr/local/lib/python3.11/dist-packages (from gradio) (0.33.0)\n",
            "Requirement already satisfied: jinja2<4.0 in /usr/local/lib/python3.11/dist-packages (from gradio) (3.1.6)\n",
            "Requirement already satisfied: markupsafe<4.0,>=2.0 in /usr/local/lib/python3.11/dist-packages (from gradio) (3.0.2)\n",
            "Requirement already satisfied: numpy<3.0,>=1.0 in /usr/local/lib/python3.11/dist-packages (from gradio) (1.26.4)\n",
            "Requirement already satisfied: orjson~=3.0 in /usr/local/lib/python3.11/dist-packages (from gradio) (3.10.18)\n",
            "Requirement already satisfied: packaging in /usr/local/lib/python3.11/dist-packages (from gradio) (24.2)\n",
            "Requirement already satisfied: pandas<3.0,>=1.0 in /usr/local/lib/python3.11/dist-packages (from gradio) (2.2.2)\n",
            "Requirement already satisfied: pillow<12.0,>=8.0 in /usr/local/lib/python3.11/dist-packages (from gradio) (11.2.1)\n",
            "Requirement already satisfied: pydantic<2.12,>=2.0 in /usr/local/lib/python3.11/dist-packages (from gradio) (2.11.7)\n",
            "Requirement already satisfied: pydub in /usr/local/lib/python3.11/dist-packages (from gradio) (0.25.1)\n",
            "Requirement already satisfied: python-multipart>=0.0.18 in /usr/local/lib/python3.11/dist-packages (from gradio) (0.0.20)\n",
            "Requirement already satisfied: pyyaml<7.0,>=5.0 in /usr/local/lib/python3.11/dist-packages (from gradio) (6.0.2)\n",
            "Requirement already satisfied: ruff>=0.9.3 in /usr/local/lib/python3.11/dist-packages (from gradio) (0.11.13)\n",
            "Requirement already satisfied: safehttpx<0.2.0,>=0.1.6 in /usr/local/lib/python3.11/dist-packages (from gradio) (0.1.6)\n",
            "Requirement already satisfied: semantic-version~=2.0 in /usr/local/lib/python3.11/dist-packages (from gradio) (2.10.0)\n",
            "Requirement already satisfied: starlette<1.0,>=0.40.0 in /usr/local/lib/python3.11/dist-packages (from gradio) (0.46.2)\n",
            "Requirement already satisfied: tomlkit<0.14.0,>=0.12.0 in /usr/local/lib/python3.11/dist-packages (from gradio) (0.13.3)\n",
            "Requirement already satisfied: typer<1.0,>=0.12 in /usr/local/lib/python3.11/dist-packages (from gradio) (0.16.0)\n",
            "Requirement already satisfied: typing-extensions~=4.0 in /usr/local/lib/python3.11/dist-packages (from gradio) (4.14.0)\n",
            "Requirement already satisfied: uvicorn>=0.14.0 in /usr/local/lib/python3.11/dist-packages (from gradio) (0.34.3)\n",
            "Requirement already satisfied: fsspec in /usr/local/lib/python3.11/dist-packages (from gradio-client==1.10.1->gradio) (2025.3.2)\n",
            "Requirement already satisfied: websockets<16.0,>=10.0 in /usr/local/lib/python3.11/dist-packages (from gradio-client==1.10.1->gradio) (15.0.1)\n",
            "Requirement already satisfied: idna>=2.8 in /usr/local/lib/python3.11/dist-packages (from anyio<5.0,>=3.0->gradio) (3.10)\n",
            "Requirement already satisfied: sniffio>=1.1 in /usr/local/lib/python3.11/dist-packages (from anyio<5.0,>=3.0->gradio) (1.3.1)\n",
            "Requirement already satisfied: certifi in /usr/local/lib/python3.11/dist-packages (from httpx>=0.24.1->gradio) (2025.6.15)\n",
            "Requirement already satisfied: httpcore==1.* in /usr/local/lib/python3.11/dist-packages (from httpx>=0.24.1->gradio) (1.0.9)\n",
            "Requirement already satisfied: h11>=0.16 in /usr/local/lib/python3.11/dist-packages (from httpcore==1.*->httpx>=0.24.1->gradio) (0.16.0)\n",
            "Requirement already satisfied: filelock in /usr/local/lib/python3.11/dist-packages (from huggingface-hub>=0.28.1->gradio) (3.18.0)\n",
            "Requirement already satisfied: requests in /usr/local/lib/python3.11/dist-packages (from huggingface-hub>=0.28.1->gradio) (2.32.3)\n",
            "Requirement already satisfied: tqdm>=4.42.1 in /usr/local/lib/python3.11/dist-packages (from huggingface-hub>=0.28.1->gradio) (4.67.1)\n",
            "Requirement already satisfied: hf-xet<2.0.0,>=1.1.2 in /usr/local/lib/python3.11/dist-packages (from huggingface-hub>=0.28.1->gradio) (1.1.3)\n",
            "Requirement already satisfied: python-dateutil>=2.8.2 in /usr/local/lib/python3.11/dist-packages (from pandas<3.0,>=1.0->gradio) (2.9.0.post0)\n",
            "Requirement already satisfied: pytz>=2020.1 in /usr/local/lib/python3.11/dist-packages (from pandas<3.0,>=1.0->gradio) (2025.2)\n",
            "Requirement already satisfied: tzdata>=2022.7 in /usr/local/lib/python3.11/dist-packages (from pandas<3.0,>=1.0->gradio) (2025.2)\n",
            "Requirement already satisfied: annotated-types>=0.6.0 in /usr/local/lib/python3.11/dist-packages (from pydantic<2.12,>=2.0->gradio) (0.7.0)\n",
            "Requirement already satisfied: pydantic-core==2.33.2 in /usr/local/lib/python3.11/dist-packages (from pydantic<2.12,>=2.0->gradio) (2.33.2)\n",
            "Requirement already satisfied: typing-inspection>=0.4.0 in /usr/local/lib/python3.11/dist-packages (from pydantic<2.12,>=2.0->gradio) (0.4.1)\n",
            "Requirement already satisfied: click>=8.0.0 in /usr/local/lib/python3.11/dist-packages (from typer<1.0,>=0.12->gradio) (8.2.1)\n",
            "Requirement already satisfied: shellingham>=1.3.0 in /usr/local/lib/python3.11/dist-packages (from typer<1.0,>=0.12->gradio) (1.5.4)\n",
            "Requirement already satisfied: rich>=10.11.0 in /usr/local/lib/python3.11/dist-packages (from typer<1.0,>=0.12->gradio) (13.9.4)\n",
            "Requirement already satisfied: six>=1.5 in /usr/local/lib/python3.11/dist-packages (from python-dateutil>=2.8.2->pandas<3.0,>=1.0->gradio) (1.17.0)\n",
            "Requirement already satisfied: markdown-it-py>=2.2.0 in /usr/local/lib/python3.11/dist-packages (from rich>=10.11.0->typer<1.0,>=0.12->gradio) (3.0.0)\n",
            "Requirement already satisfied: pygments<3.0.0,>=2.13.0 in /usr/local/lib/python3.11/dist-packages (from rich>=10.11.0->typer<1.0,>=0.12->gradio) (2.19.1)\n",
            "Requirement already satisfied: charset-normalizer<4,>=2 in /usr/local/lib/python3.11/dist-packages (from requests->huggingface-hub>=0.28.1->gradio) (3.4.2)\n",
            "Requirement already satisfied: urllib3<3,>=1.21.1 in /usr/local/lib/python3.11/dist-packages (from requests->huggingface-hub>=0.28.1->gradio) (2.4.0)\n",
            "Requirement already satisfied: mdurl~=0.1 in /usr/local/lib/python3.11/dist-packages (from markdown-it-py>=2.2.0->rich>=10.11.0->typer<1.0,>=0.12->gradio) (0.1.2)\n"
          ]
        }
      ]
    },
    {
      "cell_type": "code",
      "source": [
        "# Cell 2: Import libraries and define configuration\n",
        "import gradio as gr\n",
        "import graphviz\n",
        "import time\n",
        "import os\n",
        "\n",
        "# Define unique IDs for each node in the graph\n",
        "NODE_IDS = {\n",
        "    \"human\": \"human_user\",\n",
        "    \"coordinator_receives\": \"coord_receives\",\n",
        "    \"subtasks_list\": \"subtasks_list\",\n",
        "    \"create_subagents\": \"create_subagents\",\n",
        "    \"execute_parallel\": \"execute_parallel\",\n",
        "    \"sub_agent_1\": \"sub_agent_1\",\n",
        "    \"sub_agent_2\": \"sub_agent_2\",\n",
        "    \"sub_agent_3\": \"sub_agent_3\",\n",
        "    \"collect_results\": \"collect_results\",\n",
        "    \"combine_results\": \"combine_results\",\n",
        "    \"final_output\": \"final_output\",\n",
        "}\n",
        "\n",
        "# Define colors for different states\n",
        "STATUS_COLORS = {\n",
        "    \"pending\": \"#a9c9e8\",  # Light Blue\n",
        "    \"running\": \"gold\",\n",
        "    \"completed\": \"#b2e5b2\", # Light Green\n",
        "    \"human\": \"#ffc0cb\", # Pink\n",
        "}"
      ],
      "metadata": {
        "id": "5O75OuvF9sIw"
      },
      "execution_count": 9,
      "outputs": []
    },
    {
      "cell_type": "code",
      "source": [
        "# Cell 3: Define the core functions for graph creation and simulation\n",
        "\n",
        "def create_graph_image(statuses, num_subtasks, temp_dir):\n",
        "    \"\"\"\n",
        "    Generates a graph image using Graphviz based on the current statuses of nodes.\n",
        "    \"\"\"\n",
        "    dot = graphviz.Digraph(comment='Agentic Process')\n",
        "    dot.attr(rankdir='TB', splines='ortho') # Top-to-Bottom layout, orthogonal lines\n",
        "\n",
        "    # === Define Nodes ===\n",
        "    dot.node(NODE_IDS[\"human\"], 'Human User', shape='box', style='filled', fillcolor=STATUS_COLORS['human'])\n",
        "    dot.node(NODE_IDS[\"coordinator_receives\"], 'Coordinator Agent\\nReceives Complex Task', shape='box', style='filled', fillcolor=statuses[NODE_IDS[\"coordinator_receives\"]])\n",
        "    dot.node(NODE_IDS[\"subtasks_list\"], 'Subtasks List\\n1. Subtask 1\\n...\\nN. Subtask N', shape='note', style='filled', fillcolor=statuses[NODE_IDS[\"subtasks_list\"]])\n",
        "    dot.node(NODE_IDS[\"create_subagents\"], 'Create Sub-agents', shape='box', style='filled', fillcolor=statuses[NODE_IDS[\"create_subagents\"]])\n",
        "    dot.node(NODE_IDS[\"execute_parallel\"], 'Execute Subtasks in Parallel', shape='diamond', style='filled', fillcolor=statuses[NODE_IDS[\"execute_parallel\"]])\n",
        "    dot.node(NODE_IDS[\"collect_results\"], 'Collect Results', shape='box', style='filled', fillcolor=statuses[NODE_IDS[\"collect_results\"]])\n",
        "    dot.node(NODE_IDS[\"combine_results\"], 'Combine Results', shape='box', style='filled', fillcolor=statuses[NODE_IDS[\"combine_results\"]])\n",
        "    dot.node(NODE_IDS[\"final_output\"], 'Generate Final Output', shape='box', style='filled', fillcolor=statuses[NODE_IDS[\"final_output\"]])\n",
        "\n",
        "    for i in range(1, num_subtasks + 1):\n",
        "        node_id = f\"sub_agent_{i}\"\n",
        "        dot.node(node_id, f'Sub-agent {i}\\nProcesses Subtask', shape='box', style='filled', fillcolor=statuses.get(node_id, STATUS_COLORS['pending']))\n",
        "\n",
        "    # === Define Edges ===\n",
        "    dot.edge(NODE_IDS[\"human\"], NODE_IDS[\"coordinator_receives\"], label='Submits')\n",
        "    dot.edge(NODE_IDS[\"coordinator_receives\"], NODE_IDS[\"subtasks_list\"])\n",
        "    dot.edge(NODE_IDS[\"subtasks_list\"], NODE_IDS[\"create_subagents\"])\n",
        "    dot.edge(NODE_IDS[\"create_subagents\"], NODE_IDS[\"execute_parallel\"])\n",
        "\n",
        "    for i in range(1, num_subtasks + 1):\n",
        "        dot.edge(NODE_IDS[\"execute_parallel\"], f\"sub_agent_{i}\", label=f'Subtask {i}')\n",
        "        dot.edge(f\"sub_agent_{i}\", NODE_IDS[\"collect_results\"])\n",
        "\n",
        "    dot.edge(NODE_IDS[\"collect_results\"], NODE_IDS[\"combine_results\"])\n",
        "    dot.edge(NODE_IDS[\"combine_results\"], NODE_IDS[\"final_output\"])\n",
        "\n",
        "    output_path = os.path.join(temp_dir, 'graph')\n",
        "    dot.render(output_path, format='png', cleanup=True)\n",
        "    return f\"{output_path}.png\"\n",
        "\n",
        "\n",
        "def run_simulation(num_subtasks, task_description):\n",
        "    \"\"\"\n",
        "    Generator function that simulates the process and yields updates for the UI.\n",
        "    \"\"\"\n",
        "    temp_dir = 'gradio_temp'\n",
        "    if not os.path.exists(temp_dir):\n",
        "        os.makedirs(temp_dir)\n",
        "\n",
        "    statuses = {node_id: STATUS_COLORS['pending'] for node_id in NODE_IDS.values()}\n",
        "    log = \"Simulation started...\\n\"\n",
        "\n",
        "    process_flow = [\n",
        "        (NODE_IDS[\"coordinator_receives\"], \"Coordinator agent receives the task.\"),\n",
        "        (NODE_IDS[\"subtasks_list\"], f\"Coordinator breaks down task into {num_subtasks} subtasks.\"),\n",
        "        (NODE_IDS[\"create_subagents\"], \"Creating sub-agents...\"),\n",
        "        (NODE_IDS[\"execute_parallel\"], \"Dispatching subtasks to agents for parallel execution.\"),\n",
        "    ]\n",
        "\n",
        "    for node_id, log_message in process_flow:\n",
        "        statuses[node_id] = STATUS_COLORS['running']\n",
        "        log += f\"-> {log_message}\\n\"\n",
        "        yield create_graph_image(statuses, num_subtasks, temp_dir), log\n",
        "        time.sleep(1)\n",
        "\n",
        "        statuses[node_id] = STATUS_COLORS['completed']\n",
        "        yield create_graph_image(statuses, num_subtasks, temp_dir), log\n",
        "\n",
        "    log += \"-> Sub-agents are processing...\\n\"\n",
        "    for i in range(1, num_subtasks + 1):\n",
        "        statuses[f\"sub_agent_{i}\"] = STATUS_COLORS['running']\n",
        "    yield create_graph_image(statuses, num_subtasks, temp_dir), log\n",
        "    time.sleep(2)\n",
        "\n",
        "    for i in range(1, num_subtasks + 1):\n",
        "        statuses[f\"sub_agent_{i}\"] = STATUS_COLORS['completed']\n",
        "    yield create_graph_image(statuses, num_subtasks, temp_dir), log\n",
        "\n",
        "    final_flow = [\n",
        "        (NODE_IDS[\"collect_results\"], \"Coordinator collecting results from all sub-agents.\"),\n",
        "        (NODE_IDS[\"combine_results\"], \"Combining results into a coherent response.\"),\n",
        "        (NODE_IDS[\"final_output\"], \"Generating final output.\"),\n",
        "    ]\n",
        "\n",
        "    for node_id, log_message in final_flow:\n",
        "        statuses[node_id] = STATUS_COLORS['running']\n",
        "        log += f\"-> {log_message}\\n\"\n",
        "        yield create_graph_image(statuses, num_subtasks, temp_dir), log\n",
        "        time.sleep(1)\n",
        "\n",
        "        statuses[node_id] = STATUS_COLORS['completed']\n",
        "        yield create_graph_image(statuses, num_subtasks, temp_dir), log\n",
        "\n",
        "    log += \"\\n✅ Process complete!\"\n",
        "    yield create_graph_image(statuses, num_subtasks, temp_dir), log"
      ],
      "metadata": {
        "id": "nM0Xhxta9vge"
      },
      "execution_count": 10,
      "outputs": []
    },
    {
      "cell_type": "code",
      "source": [
        "# Cell 4: Build the Gradio interface and launch it\n",
        "\n",
        "with gr.Blocks(theme=gr.themes.Soft()) as demo:\n",
        "    gr.Markdown(\"# Agentic System Flowchart Visualization\")\n",
        "    gr.Markdown(\"Enter a task and a number of sub-agents, then click 'Start' to see the process visualized.\")\n",
        "\n",
        "    with gr.Row():\n",
        "        task_input = gr.Textbox(label=\"Complex Task\", value=\"Plan a 3-day trip to Paris\")\n",
        "        subtask_slider = gr.Slider(minimum=2, maximum=5, value=3, step=1, label=\"Number of Sub-agents to create\")\n",
        "        start_button = gr.Button(\"Start Process\", variant=\"primary\")\n",
        "\n",
        "    with gr.Row():\n",
        "        graph_output = gr.Image(label=\"Process Flow\", type=\"filepath\", height=600)\n",
        "        log_output = gr.Textbox(label=\"Process Log\", lines=15, interactive=False)\n",
        "\n",
        "    start_button.click(\n",
        "        fn=run_simulation,\n",
        "        inputs=[subtask_slider, task_input],\n",
        "        outputs=[graph_output, log_output]\n",
        "    )\n",
        "\n",
        "# The 'share=True' argument is crucial for running Gradio in Google Colab\n",
        "demo.launch(share=True, debug=True)"
      ],
      "metadata": {
        "colab": {
          "base_uri": "https://localhost:8080/",
          "height": 1000
        },
        "id": "dowyKoTS9xP-",
        "outputId": "0106c1c2-1b85-4525-9b7c-64a65cec72d6"
      },
      "execution_count": 11,
      "outputs": [
        {
          "output_type": "stream",
          "name": "stdout",
          "text": [
            "Colab notebook detected. This cell will run indefinitely so that you can see errors and logs. To turn off, set debug=False in launch().\n",
            "* Running on public URL: https://08116bdf5d59d15275.gradio.live\n",
            "\n",
            "This share link expires in 1 week. For free permanent hosting and GPU upgrades, run `gradio deploy` from the terminal in the working directory to deploy to Hugging Face Spaces (https://huggingface.co/spaces)\n"
          ]
        },
        {
          "output_type": "display_data",
          "data": {
            "text/plain": [
              "<IPython.core.display.HTML object>"
            ],
            "text/html": [
              "<div><iframe src=\"https://08116bdf5d59d15275.gradio.live\" width=\"100%\" height=\"500\" allow=\"autoplay; camera; microphone; clipboard-read; clipboard-write;\" frameborder=\"0\" allowfullscreen></iframe></div>"
            ]
          },
          "metadata": {}
        },
        {
          "output_type": "stream",
          "name": "stderr",
          "text": [
            "Warning: Orthogonal edges do not currently handle edge labels. Try using xlabels.\n",
            "Warning: Orthogonal edges do not currently handle edge labels. Try using xlabels.\n",
            "Warning: Orthogonal edges do not currently handle edge labels. Try using xlabels.\n",
            "Warning: Orthogonal edges do not currently handle edge labels. Try using xlabels.\n",
            "Warning: Orthogonal edges do not currently handle edge labels. Try using xlabels.\n",
            "Warning: Orthogonal edges do not currently handle edge labels. Try using xlabels.\n",
            "Warning: Orthogonal edges do not currently handle edge labels. Try using xlabels.\n",
            "Warning: Orthogonal edges do not currently handle edge labels. Try using xlabels.\n",
            "Warning: Orthogonal edges do not currently handle edge labels. Try using xlabels.\n",
            "Warning: Orthogonal edges do not currently handle edge labels. Try using xlabels.\n",
            "Warning: Orthogonal edges do not currently handle edge labels. Try using xlabels.\n",
            "Warning: Orthogonal edges do not currently handle edge labels. Try using xlabels.\n",
            "Warning: Orthogonal edges do not currently handle edge labels. Try using xlabels.\n",
            "Warning: Orthogonal edges do not currently handle edge labels. Try using xlabels.\n",
            "Warning: Orthogonal edges do not currently handle edge labels. Try using xlabels.\n",
            "Warning: Orthogonal edges do not currently handle edge labels. Try using xlabels.\n",
            "Warning: Orthogonal edges do not currently handle edge labels. Try using xlabels.\n",
            "Warning: Orthogonal edges do not currently handle edge labels. Try using xlabels.\n",
            "Warning: Orthogonal edges do not currently handle edge labels. Try using xlabels.\n",
            "Warning: Orthogonal edges do not currently handle edge labels. Try using xlabels.\n",
            "Warning: Orthogonal edges do not currently handle edge labels. Try using xlabels.\n",
            "Warning: Orthogonal edges do not currently handle edge labels. Try using xlabels.\n",
            "Warning: Orthogonal edges do not currently handle edge labels. Try using xlabels.\n",
            "Warning: Orthogonal edges do not currently handle edge labels. Try using xlabels.\n",
            "Warning: Orthogonal edges do not currently handle edge labels. Try using xlabels.\n",
            "Warning: Orthogonal edges do not currently handle edge labels. Try using xlabels.\n",
            "Warning: Orthogonal edges do not currently handle edge labels. Try using xlabels.\n",
            "Warning: Orthogonal edges do not currently handle edge labels. Try using xlabels.\n",
            "Warning: Orthogonal edges do not currently handle edge labels. Try using xlabels.\n",
            "Warning: Orthogonal edges do not currently handle edge labels. Try using xlabels.\n",
            "Warning: Orthogonal edges do not currently handle edge labels. Try using xlabels.\n",
            "Warning: Orthogonal edges do not currently handle edge labels. Try using xlabels.\n",
            "Warning: Orthogonal edges do not currently handle edge labels. Try using xlabels.\n",
            "Warning: Orthogonal edges do not currently handle edge labels. Try using xlabels.\n"
          ]
        },
        {
          "output_type": "stream",
          "name": "stdout",
          "text": [
            "Keyboard interruption in main thread... closing server.\n",
            "Killing tunnel 127.0.0.1:7860 <> https://08116bdf5d59d15275.gradio.live\n"
          ]
        },
        {
          "output_type": "execute_result",
          "data": {
            "text/plain": []
          },
          "metadata": {},
          "execution_count": 11
        }
      ]
    }
  ]
}