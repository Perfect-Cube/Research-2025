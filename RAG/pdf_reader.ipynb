{
  "nbformat": 4,
  "nbformat_minor": 0,
  "metadata": {
    "colab": {
      "provenance": []
    },
    "kernelspec": {
      "name": "python3",
      "display_name": "Python 3"
    },
    "language_info": {
      "name": "python"
    }
  },
  "cells": [
    {
      "cell_type": "code",
      "source": [
        "!pip install pymupdf pillow"
      ],
      "metadata": {
        "colab": {
          "base_uri": "https://localhost:8080/"
        },
        "id": "qok_lAt4lp5o",
        "outputId": "7a86d65d-f6d7-4048-ec3c-ec3a4b2f9e2a"
      },
      "execution_count": 1,
      "outputs": [
        {
          "output_type": "stream",
          "name": "stdout",
          "text": [
            "Collecting pymupdf\n",
            "  Downloading pymupdf-1.25.3-cp39-abi3-manylinux2014_x86_64.manylinux_2_17_x86_64.whl.metadata (3.4 kB)\n",
            "Requirement already satisfied: pillow in /usr/local/lib/python3.11/dist-packages (11.1.0)\n",
            "Downloading pymupdf-1.25.3-cp39-abi3-manylinux2014_x86_64.manylinux_2_17_x86_64.whl (20.0 MB)\n",
            "\u001b[2K   \u001b[90m━━━━━━━━━━━━━━━━━━━━━━━━━━━━━━━━━━━━━━━━\u001b[0m \u001b[32m20.0/20.0 MB\u001b[0m \u001b[31m68.4 MB/s\u001b[0m eta \u001b[36m0:00:00\u001b[0m\n",
            "\u001b[?25hInstalling collected packages: pymupdf\n",
            "Successfully installed pymupdf-1.25.3\n"
          ]
        }
      ]
    },
    {
      "cell_type": "code",
      "execution_count": 2,
      "metadata": {
        "colab": {
          "base_uri": "https://localhost:8080/"
        },
        "id": "7BfZ3b7okvnw",
        "outputId": "f2a1110c-d905-4de8-d1b3-93945329dfe1"
      },
      "outputs": [
        {
          "output_type": "stream",
          "name": "stdout",
          "text": [
            "Enter PDF file paths separated by commas: /content/autodesk-1.pdf\n",
            "Saved: /content/extracted_images/0_autodesk-1/high_quality_page_0.png\n",
            "Processing complete.\n"
          ]
        }
      ],
      "source": [
        "import fitz  # PyMuPDF\n",
        "import os\n",
        "import io\n",
        "from PIL import Image\n",
        "\n",
        "# Get PDF file paths from user input\n",
        "pdf_files = input(\"Enter PDF file paths separated by commas: \").split(',')\n",
        "pdf_files = [pdf.strip() for pdf in pdf_files]\n",
        "\n",
        "# Output directory for images\n",
        "output_base = \"/content/extracted_images\"\n",
        "os.makedirs(output_base, exist_ok=True)\n",
        "\n",
        "# Scale factor for high-resolution rendering\n",
        "scale = 6.0  # Adjust scale factor as needed; higher means more detail\n",
        "mat = fitz.Matrix(scale, scale)\n",
        "\n",
        "for pdf_index, pdf_path in enumerate(pdf_files):\n",
        "    if not os.path.exists(pdf_path):\n",
        "        print(f\"File not found: {pdf_path}\")\n",
        "        continue\n",
        "\n",
        "    # Create a folder for each PDF\n",
        "    pdf_name = os.path.splitext(os.path.basename(pdf_path))[0]\n",
        "    pdf_output_dir = os.path.join(output_base, f\"{pdf_index}_{pdf_name}\")\n",
        "    os.makedirs(pdf_output_dir, exist_ok=True)\n",
        "\n",
        "    # Open the PDF file\n",
        "    doc = fitz.open(pdf_path)\n",
        "\n",
        "    for page_index in range(len(doc)):\n",
        "        page = doc.load_page(page_index)\n",
        "        pix = page.get_pixmap(matrix=mat)  # Apply high-resolution scaling\n",
        "        img_bytes = pix.tobytes(\"ppm\")\n",
        "        img = Image.open(io.BytesIO(img_bytes))\n",
        "\n",
        "        # Save each page as a high-quality PNG image\n",
        "        img_path = os.path.join(pdf_output_dir, f\"high_quality_page_{page_index}.png\")\n",
        "        img.save(img_path)\n",
        "        print(f\"Saved: {img_path}\")\n",
        "\n",
        "print(\"Processing complete.\")\n"
      ]
    }
  ]
}