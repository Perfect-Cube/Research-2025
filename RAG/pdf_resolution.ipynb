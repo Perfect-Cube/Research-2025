{
  "nbformat": 4,
  "nbformat_minor": 0,
  "metadata": {
    "colab": {
      "provenance": []
    },
    "kernelspec": {
      "name": "python3",
      "display_name": "Python 3"
    },
    "language_info": {
      "name": "python"
    }
  },
  "cells": [
    {
      "cell_type": "code",
      "source": [
        "pip install pymupdf pillow"
      ],
      "metadata": {
        "colab": {
          "base_uri": "https://localhost:8080/"
        },
        "id": "Zkp3qnEYBm66",
        "outputId": "dca16e4c-22a6-453b-e783-8495a369c87e"
      },
      "execution_count": 1,
      "outputs": [
        {
          "output_type": "stream",
          "name": "stdout",
          "text": [
            "Collecting pymupdf\n",
            "  Downloading pymupdf-1.25.3-cp39-abi3-manylinux2014_x86_64.manylinux_2_17_x86_64.whl.metadata (3.4 kB)\n",
            "Requirement already satisfied: pillow in /usr/local/lib/python3.11/dist-packages (11.1.0)\n",
            "Downloading pymupdf-1.25.3-cp39-abi3-manylinux2014_x86_64.manylinux_2_17_x86_64.whl (20.0 MB)\n",
            "\u001b[2K   \u001b[90m━━━━━━━━━━━━━━━━━━━━━━━━━━━━━━━━━━━━━━━━\u001b[0m \u001b[32m20.0/20.0 MB\u001b[0m \u001b[31m17.3 MB/s\u001b[0m eta \u001b[36m0:00:00\u001b[0m\n",
            "\u001b[?25hInstalling collected packages: pymupdf\n",
            "Successfully installed pymupdf-1.25.3\n"
          ]
        }
      ]
    },
    {
      "cell_type": "code",
      "execution_count": 2,
      "metadata": {
        "colab": {
          "base_uri": "https://localhost:8080/"
        },
        "id": "zAZi5zFFBgx1",
        "outputId": "e52d3385-1a01-40cb-d639-8c41c97707e5"
      },
      "outputs": [
        {
          "output_type": "stream",
          "name": "stdout",
          "text": [
            "Requirement already satisfied: pymupdf in /usr/local/lib/python3.11/dist-packages (1.25.3)\n",
            "Requirement already satisfied: pillow in /usr/local/lib/python3.11/dist-packages (11.1.0)\n",
            "Image saved as: /content/page0.png\n"
          ]
        }
      ],
      "source": [
        "# Install required libraries\n",
        "!pip install pymupdf pillow\n",
        "\n",
        "import fitz  # PyMuPDF\n",
        "import io\n",
        "from PIL import Image\n",
        "\n",
        "# Specify the PDF file path (adjust the path as needed)\n",
        "pdf_path = \"/content/goal-1.pdf\"  # Make sure the file exists at this location\n",
        "\n",
        "# Open the PDF file using PyMuPDF\n",
        "doc = fitz.open(pdf_path)\n",
        "\n",
        "# Load the first page (page index 0)\n",
        "page = doc.load_page(0)\n",
        "\n",
        "# Render the page to a pixmap\n",
        "pix = page.get_pixmap()\n",
        "\n",
        "# Convert the pixmap to bytes (using PPM format)\n",
        "img_bytes = pix.tobytes(\"ppm\")\n",
        "\n",
        "# Open the image using Pillow\n",
        "img = Image.open(io.BytesIO(img_bytes))\n",
        "\n",
        "# Save the image to disk (e.g., as a PNG file)\n",
        "output_path = \"/content/page0.png\"\n",
        "img.save(output_path)\n",
        "\n",
        "print(f\"Image saved as: {output_path}\")\n"
      ]
    },
    {
      "cell_type": "code",
      "source": [
        "# Install required libraries\n",
        "!pip install pymupdf pillow\n",
        "\n",
        "import fitz  # PyMuPDF\n",
        "from PIL import Image\n",
        "import io\n",
        "\n",
        "# Specify the PDF file path (adjust as needed)\n",
        "pdf_path = \"/content/goal-1.pdf\"  # Ensure this file exists in Colab\n",
        "\n",
        "# Open the PDF file\n",
        "doc = fitz.open(pdf_path)\n",
        "\n",
        "# Load the first page (page index 0)\n",
        "page = doc.load_page(0)\n",
        "\n",
        "# Increase the scale factor for high resolution rendering\n",
        "scale = 6.0  # Adjust scale factor as needed; higher means more detail\n",
        "mat = fitz.Matrix(scale, scale)\n",
        "pix = page.get_pixmap(matrix=mat)\n",
        "\n",
        "# Convert the pixmap to bytes in PPM format\n",
        "img_bytes = pix.tobytes(\"ppm\")\n",
        "\n",
        "# Open the image with Pillow\n",
        "img = Image.open(io.BytesIO(img_bytes))\n",
        "\n",
        "# Save the image to disk (e.g., as a high-quality PNG)\n",
        "output_path = \"/content/high_quality_page0.png\"\n",
        "img.save(output_path)\n",
        "\n",
        "print(f\"High quality image saved as: {output_path}\")\n"
      ],
      "metadata": {
        "colab": {
          "base_uri": "https://localhost:8080/"
        },
        "id": "Pfile4uTDuXE",
        "outputId": "975de473-4eb4-4b57-9c75-7b4334f7cb48"
      },
      "execution_count": 7,
      "outputs": [
        {
          "output_type": "stream",
          "name": "stdout",
          "text": [
            "Requirement already satisfied: pymupdf in /usr/local/lib/python3.11/dist-packages (1.25.3)\n",
            "Requirement already satisfied: pillow in /usr/local/lib/python3.11/dist-packages (11.1.0)\n",
            "High quality image saved as: /content/high_quality_page0.png\n"
          ]
        }
      ]
    }
  ]
}