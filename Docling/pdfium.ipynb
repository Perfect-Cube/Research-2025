{
  "nbformat": 4,
  "nbformat_minor": 0,
  "metadata": {
    "colab": {
      "provenance": []
    },
    "kernelspec": {
      "name": "python3",
      "display_name": "Python 3"
    },
    "language_info": {
      "name": "python"
    }
  },
  "cells": [
    {
      "cell_type": "code",
      "source": [
        "!git clone https://github.com/PDFium/PDFium"
      ],
      "metadata": {
        "colab": {
          "base_uri": "https://localhost:8080/"
        },
        "id": "x_B_B-G_TYCh",
        "outputId": "1cdc06e0-be78-436a-f5a5-b41b85c43706"
      },
      "execution_count": 3,
      "outputs": [
        {
          "output_type": "stream",
          "name": "stdout",
          "text": [
            "Cloning into 'PDFium'...\n",
            "remote: Enumerating objects: 3363, done.\u001b[K\n",
            "remote: Counting objects: 100% (3178/3178), done.\u001b[K\n",
            "remote: Compressing objects: 100% (1270/1270), done.\u001b[K\n",
            "remote: Total 3363 (delta 1904), reused 3145 (delta 1889), pack-reused 185 (from 1)\u001b[K\n",
            "Receiving objects: 100% (3363/3363), 5.97 MiB | 10.74 MiB/s, done.\n",
            "Resolving deltas: 100% (1909/1909), done.\n"
          ]
        }
      ]
    },
    {
      "cell_type": "code",
      "source": [
        "git clone https://pdfium.googlesource.com/pdfium\n"
      ],
      "metadata": {
        "colab": {
          "base_uri": "https://localhost:8080/"
        },
        "id": "YzRM3WUjTyAp",
        "outputId": "383bd437-136e-4d4c-f16c-69d1709f5a37"
      },
      "execution_count": 5,
      "outputs": [
        {
          "output_type": "error",
          "ename": "SyntaxError",
          "evalue": "invalid syntax (<ipython-input-5-72e7cf7580ed>, line 1)",
          "traceback": [
            "\u001b[0;36m  File \u001b[0;32m\"<ipython-input-5-72e7cf7580ed>\"\u001b[0;36m, line \u001b[0;32m1\u001b[0m\n\u001b[0;31m    git clone https://pdfium.googlesource.com/pdfium\u001b[0m\n\u001b[0m        ^\u001b[0m\n\u001b[0;31mSyntaxError\u001b[0m\u001b[0;31m:\u001b[0m invalid syntax\n"
          ]
        }
      ]
    },
    {
      "cell_type": "code",
      "execution_count": 6,
      "metadata": {
        "colab": {
          "base_uri": "https://localhost:8080/"
        },
        "id": "-hXexcKzTAuU",
        "outputId": "2f520084-bb57-4b83-dfa8-88616885daeb"
      },
      "outputs": [
        {
          "output_type": "stream",
          "name": "stdout",
          "text": [
            "Collecting pypdfium\n",
            "  Downloading pypdfium-0.0.15.tar.gz (7.8 MB)\n",
            "\u001b[2K     \u001b[90m━━━━━━━━━━━━━━━━━━━━━━━━━━━━━━━━━━━━━━━━\u001b[0m \u001b[32m7.8/7.8 MB\u001b[0m \u001b[31m2.1 MB/s\u001b[0m eta \u001b[36m0:00:00\u001b[0m\n",
            "\u001b[?25h  Preparing metadata (setup.py) ... \u001b[?25l\u001b[?25hdone\n",
            "Building wheels for collected packages: pypdfium\n",
            "  Building wheel for pypdfium (setup.py) ... \u001b[?25l\u001b[?25hdone\n",
            "  Created wheel for pypdfium: filename=pypdfium-0.0.15-py3-none-any.whl size=7838763 sha256=a1aa3583ec956f5bd0588a8b244408244c13a2e19c8d73e481df3f2721ab51d3\n",
            "  Stored in directory: /root/.cache/pip/wheels/3a/0e/db/8c8126f2c942b58aed048aa062c6e0c986576920d83319112a\n",
            "Successfully built pypdfium\n",
            "Installing collected packages: pypdfium\n",
            "Successfully installed pypdfium-0.0.15\n"
          ]
        }
      ],
      "source": [
        "pip install pypdfium"
      ]
    },
    {
      "cell_type": "code",
      "source": [
        "import pypdfium as pdfium\n",
        "import os\n",
        "\n",
        "# Path to your PDF and output directory for saving images.\n",
        "pdf_path = \"/content/PS_2.1_011_1075_05_Relevante Eingangsgrößen für P3+ Anmeldepackage erzeugen.pdf\"\n",
        "output_dir = \"saved_images\"\n",
        "os.makedirs(output_dir, exist_ok=True)\n",
        "\n",
        "# Open the PDF document.\n",
        "pdf = pdfium.PdfDocument(pdf_path)\n",
        "num_pages = len(pdf)\n",
        "print(f\"Total pages: {num_pages}\")\n",
        "\n",
        "scale = 7.0  # Similar to using a scaling matrix in PyMuPDF.\n",
        "\n",
        "# Iterate over pages and render each page.\n",
        "for i, page in enumerate(pdf):\n",
        "    # Render the page at the specified scale.\n",
        "    bitmap = page.render(scale=scale)\n",
        "    # Convert the rendered bitmap to a PIL Image.\n",
        "    image = bitmap.to_pil()\n",
        "    # Save the image.\n",
        "    output_path = os.path.join(output_dir, f\"saved_image_page_{i+1}.png\")\n",
        "    image.save(output_path)\n",
        "    print(f\"Saved page {i+1} as: {output_path}\")\n"
      ],
      "metadata": {
        "colab": {
          "base_uri": "https://localhost:8080/"
        },
        "id": "om18PCOiTJB9",
        "outputId": "3dc142b2-bef0-445b-9b0b-738d84e4e58d"
      },
      "execution_count": 9,
      "outputs": [
        {
          "output_type": "error",
          "ename": "AttributeError",
          "evalue": "module 'pypdfium' has no attribute 'PdfDocument'",
          "traceback": [
            "\u001b[0;31m---------------------------------------------------------------------------\u001b[0m",
            "\u001b[0;31mAttributeError\u001b[0m                            Traceback (most recent call last)",
            "\u001b[0;32m<ipython-input-9-a4344c0b833f>\u001b[0m in \u001b[0;36m<cell line: 0>\u001b[0;34m()\u001b[0m\n\u001b[1;32m      8\u001b[0m \u001b[0;34m\u001b[0m\u001b[0m\n\u001b[1;32m      9\u001b[0m \u001b[0;31m# Open the PDF document.\u001b[0m\u001b[0;34m\u001b[0m\u001b[0;34m\u001b[0m\u001b[0m\n\u001b[0;32m---> 10\u001b[0;31m \u001b[0mpdf\u001b[0m \u001b[0;34m=\u001b[0m \u001b[0mpdfium\u001b[0m\u001b[0;34m.\u001b[0m\u001b[0mPdfDocument\u001b[0m\u001b[0;34m(\u001b[0m\u001b[0mpdf_path\u001b[0m\u001b[0;34m)\u001b[0m\u001b[0;34m\u001b[0m\u001b[0;34m\u001b[0m\u001b[0m\n\u001b[0m\u001b[1;32m     11\u001b[0m \u001b[0mnum_pages\u001b[0m \u001b[0;34m=\u001b[0m \u001b[0mlen\u001b[0m\u001b[0;34m(\u001b[0m\u001b[0mpdf\u001b[0m\u001b[0;34m)\u001b[0m\u001b[0;34m\u001b[0m\u001b[0;34m\u001b[0m\u001b[0m\n\u001b[1;32m     12\u001b[0m \u001b[0mprint\u001b[0m\u001b[0;34m(\u001b[0m\u001b[0;34mf\"Total pages: {num_pages}\"\u001b[0m\u001b[0;34m)\u001b[0m\u001b[0;34m\u001b[0m\u001b[0;34m\u001b[0m\u001b[0m\n",
            "\u001b[0;31mAttributeError\u001b[0m: module 'pypdfium' has no attribute 'PdfDocument'"
          ]
        }
      ]
    },
    {
      "cell_type": "code",
      "source": [
        "!pip install pypdfium\n",
        "import pypdfium as pdfium\n",
        "import os\n",
        "\n",
        "# Path to your PDF and output directory for saving images.\n",
        "pdf_path = \"/content/PS_2.1_011_1075_05_Relevante Eingangsgrößen für P3+ Anmeldepackage erzeugen.pdf\"\n",
        "output_dir = \"saved_images\"\n",
        "os.makedirs(output_dir, exist_ok=True)\n",
        "\n",
        "# Open the PDF document.\n",
        "pdf = pdfium.PdfDocument(pdf_path)\n",
        "num_pages = len(pdf)\n",
        "print(f\"Total pages: {num_pages}\")\n",
        "\n",
        "scale = 7.0  # Similar to using a scaling matrix in PyMuPDF.\n",
        "\n",
        "# Iterate over pages and render each page.\n",
        "for i in range(num_pages): # Iterate through the range of the number of pages.\n",
        "    page = pdf.get_page(i) # Get the page object at index i\n",
        "    # Render the page at the specified scale.\n",
        "    bitmap = page.render(scale=scale)\n",
        "    # Convert the rendered bitmap to a PIL Image.\n",
        "    image = bitmap.to_pil()\n",
        "    # Save the image.\n",
        "    output_path = os.path.join(output_dir, f\"saved_image_page_{i+1}.png\")\n",
        "    image.save(output_path)\n",
        "    print(f\"Saved page {i+1} as: {output_path}\")"
      ],
      "metadata": {
        "colab": {
          "base_uri": "https://localhost:8080/"
        },
        "id": "NqOAUrsmUnFj",
        "outputId": "25592cbb-a4fe-4842-d466-0d0d1dce6ff5"
      },
      "execution_count": 10,
      "outputs": [
        {
          "output_type": "stream",
          "name": "stdout",
          "text": [
            "Requirement already satisfied: pypdfium in /usr/local/lib/python3.11/dist-packages (0.0.15)\n"
          ]
        },
        {
          "output_type": "error",
          "ename": "AttributeError",
          "evalue": "module 'pypdfium' has no attribute 'PdfDocument'",
          "traceback": [
            "\u001b[0;31m---------------------------------------------------------------------------\u001b[0m",
            "\u001b[0;31mAttributeError\u001b[0m                            Traceback (most recent call last)",
            "\u001b[0;32m<ipython-input-10-410c10a0601a>\u001b[0m in \u001b[0;36m<cell line: 0>\u001b[0;34m()\u001b[0m\n\u001b[1;32m      9\u001b[0m \u001b[0;34m\u001b[0m\u001b[0m\n\u001b[1;32m     10\u001b[0m \u001b[0;31m# Open the PDF document.\u001b[0m\u001b[0;34m\u001b[0m\u001b[0;34m\u001b[0m\u001b[0m\n\u001b[0;32m---> 11\u001b[0;31m \u001b[0mpdf\u001b[0m \u001b[0;34m=\u001b[0m \u001b[0mpdfium\u001b[0m\u001b[0;34m.\u001b[0m\u001b[0mPdfDocument\u001b[0m\u001b[0;34m(\u001b[0m\u001b[0mpdf_path\u001b[0m\u001b[0;34m)\u001b[0m\u001b[0;34m\u001b[0m\u001b[0;34m\u001b[0m\u001b[0m\n\u001b[0m\u001b[1;32m     12\u001b[0m \u001b[0mnum_pages\u001b[0m \u001b[0;34m=\u001b[0m \u001b[0mlen\u001b[0m\u001b[0;34m(\u001b[0m\u001b[0mpdf\u001b[0m\u001b[0;34m)\u001b[0m\u001b[0;34m\u001b[0m\u001b[0;34m\u001b[0m\u001b[0m\n\u001b[1;32m     13\u001b[0m \u001b[0mprint\u001b[0m\u001b[0;34m(\u001b[0m\u001b[0;34mf\"Total pages: {num_pages}\"\u001b[0m\u001b[0;34m)\u001b[0m\u001b[0;34m\u001b[0m\u001b[0;34m\u001b[0m\u001b[0m\n",
            "\u001b[0;31mAttributeError\u001b[0m: module 'pypdfium' has no attribute 'PdfDocument'"
          ]
        }
      ]
    },
    {
      "cell_type": "code",
      "source": [
        "pip install pypdfium2"
      ],
      "metadata": {
        "colab": {
          "base_uri": "https://localhost:8080/"
        },
        "id": "09nlAHnfUsvB",
        "outputId": "8791513e-5a57-454c-8950-32f52775aa83"
      },
      "execution_count": 12,
      "outputs": [
        {
          "output_type": "stream",
          "name": "stdout",
          "text": [
            "Collecting pypdfium2\n",
            "  Downloading pypdfium2-4.30.1-py3-none-manylinux_2_17_x86_64.manylinux2014_x86_64.whl.metadata (48 kB)\n",
            "\u001b[2K     \u001b[90m━━━━━━━━━━━━━━━━━━━━━━━━━━━━━━━━━━━━━━━━\u001b[0m \u001b[32m48.2/48.2 kB\u001b[0m \u001b[31m2.0 MB/s\u001b[0m eta \u001b[36m0:00:00\u001b[0m\n",
            "\u001b[?25hDownloading pypdfium2-4.30.1-py3-none-manylinux_2_17_x86_64.manylinux2014_x86_64.whl (2.9 MB)\n",
            "\u001b[2K   \u001b[90m━━━━━━━━━━━━━━━━━━━━━━━━━━━━━━━━━━━━━━━━\u001b[0m \u001b[32m2.9/2.9 MB\u001b[0m \u001b[31m34.4 MB/s\u001b[0m eta \u001b[36m0:00:00\u001b[0m\n",
            "\u001b[?25hInstalling collected packages: pypdfium2\n",
            "Successfully installed pypdfium2-4.30.1\n"
          ]
        }
      ]
    },
    {
      "cell_type": "code",
      "source": [
        "import pypdfium2 as pdfium\n",
        "import os\n",
        "\n",
        "# Path to your PDF and output directory for saving images.\n",
        "pdf_path = \"/content/PS_2.1_011_1075_05_Relevante Eingangsgrößen für P3+ Anmeldepackage erzeugen.pdf\"\n",
        "output_dir = \"saved_images\"\n",
        "os.makedirs(output_dir, exist_ok=True)\n",
        "\n",
        "# Open the PDF document.\n",
        "pdf = pdfium.PdfDocument(pdf_path)\n",
        "num_pages = len(pdf)\n",
        "print(f\"Total pages: {num_pages}\")\n",
        "\n",
        "scale = 7.0  # Scale factor to achieve a high-resolution rendering.\n",
        "\n",
        "# Iterate over the pages and render each page.\n",
        "for i in range(num_pages):\n",
        "    page = pdf.get_page(i)\n",
        "    # Render the page at the specified scale and convert to a PIL Image.\n",
        "    pil_image = page.render_topil(scale=scale)\n",
        "\n",
        "    output_path = os.path.join(output_dir, f\"saved_image_page_{i+1}.png\")\n",
        "    pil_image.save(output_path)\n",
        "    print(f\"Saved page {i+1} as: {output_path}\")\n",
        "\n",
        "    # It's good practice to close the page once done.\n",
        "    page.close()\n",
        "\n",
        "pdf.close()\n"
      ],
      "metadata": {
        "colab": {
          "base_uri": "https://localhost:8080/"
        },
        "id": "h2dyA9pgUwG7",
        "outputId": "05247e25-13d6-4614-bb78-2a83eff26230"
      },
      "execution_count": 14,
      "outputs": [
        {
          "output_type": "stream",
          "name": "stdout",
          "text": [
            "Total pages: 11\n"
          ]
        },
        {
          "output_type": "error",
          "ename": "AttributeError",
          "evalue": "'PdfPage' object has no attribute 'render_topil'",
          "traceback": [
            "\u001b[0;31m---------------------------------------------------------------------------\u001b[0m",
            "\u001b[0;31mAttributeError\u001b[0m                            Traceback (most recent call last)",
            "\u001b[0;32m<ipython-input-14-118b3b4e065a>\u001b[0m in \u001b[0;36m<cell line: 0>\u001b[0;34m()\u001b[0m\n\u001b[1;32m     18\u001b[0m     \u001b[0mpage\u001b[0m \u001b[0;34m=\u001b[0m \u001b[0mpdf\u001b[0m\u001b[0;34m.\u001b[0m\u001b[0mget_page\u001b[0m\u001b[0;34m(\u001b[0m\u001b[0mi\u001b[0m\u001b[0;34m)\u001b[0m\u001b[0;34m\u001b[0m\u001b[0;34m\u001b[0m\u001b[0m\n\u001b[1;32m     19\u001b[0m     \u001b[0;31m# Render the page at the specified scale and convert to a PIL Image.\u001b[0m\u001b[0;34m\u001b[0m\u001b[0;34m\u001b[0m\u001b[0m\n\u001b[0;32m---> 20\u001b[0;31m     \u001b[0mpil_image\u001b[0m \u001b[0;34m=\u001b[0m \u001b[0mpage\u001b[0m\u001b[0;34m.\u001b[0m\u001b[0mrender_topil\u001b[0m\u001b[0;34m(\u001b[0m\u001b[0mscale\u001b[0m\u001b[0;34m=\u001b[0m\u001b[0mscale\u001b[0m\u001b[0;34m)\u001b[0m\u001b[0;34m\u001b[0m\u001b[0;34m\u001b[0m\u001b[0m\n\u001b[0m\u001b[1;32m     21\u001b[0m \u001b[0;34m\u001b[0m\u001b[0m\n\u001b[1;32m     22\u001b[0m     \u001b[0moutput_path\u001b[0m \u001b[0;34m=\u001b[0m \u001b[0mos\u001b[0m\u001b[0;34m.\u001b[0m\u001b[0mpath\u001b[0m\u001b[0;34m.\u001b[0m\u001b[0mjoin\u001b[0m\u001b[0;34m(\u001b[0m\u001b[0moutput_dir\u001b[0m\u001b[0;34m,\u001b[0m \u001b[0;34mf\"saved_image_page_{i+1}.png\"\u001b[0m\u001b[0;34m)\u001b[0m\u001b[0;34m\u001b[0m\u001b[0;34m\u001b[0m\u001b[0m\n",
            "\u001b[0;31mAttributeError\u001b[0m: 'PdfPage' object has no attribute 'render_topil'"
          ]
        }
      ]
    },
    {
      "cell_type": "code",
      "source": [
        "import pypdfium2 as pdfium\n",
        "import os\n",
        "\n",
        "# Path to your PDF and output directory for saving images.\n",
        "pdf_path = \"/content/PS_2.1_011_1075_05_Relevante Eingangsgrößen für P3+ Anmeldepackage erzeugen.pdf\"\n",
        "output_dir = \"saved_images\"\n",
        "os.makedirs(output_dir, exist_ok=True)\n",
        "\n",
        "# Open the PDF document.\n",
        "pdf = pdfium.PdfDocument(pdf_path)\n",
        "num_pages = len(pdf)\n",
        "print(f\"Total pages: {num_pages}\")\n",
        "\n",
        "scale = 7.0  # Scale factor to achieve a high-resolution rendering.\n",
        "\n",
        "# Iterate over the pages and render each page.\n",
        "for i in range(num_pages):\n",
        "    page = pdf.get_page(i)\n",
        "    # Render the page at the specified scale and convert to a PIL Image.\n",
        "    bitmap = page.render(scale=scale) # Render the page to a bitmap\n",
        "    pil_image = bitmap.to_pil() # Convert the bitmap to a PIL image\n",
        "\n",
        "    output_path = os.path.join(output_dir, f\"saved_image_page_{i+1}.png\")\n",
        "    pil_image.save(output_path)\n",
        "    print(f\"Saved page {i+1} as: {output_path}\")\n",
        "\n",
        "    # It's good practice to close the page once done.\n",
        "    page.close()\n",
        "\n",
        "pdf.close()"
      ],
      "metadata": {
        "colab": {
          "base_uri": "https://localhost:8080/"
        },
        "id": "z2hgBNCTVVwW",
        "outputId": "0152511d-cec5-473e-9597-f129455259c7"
      },
      "execution_count": 15,
      "outputs": [
        {
          "output_type": "stream",
          "name": "stdout",
          "text": [
            "Total pages: 11\n",
            "Saved page 1 as: saved_images/saved_image_page_1.png\n",
            "Saved page 2 as: saved_images/saved_image_page_2.png\n",
            "Saved page 3 as: saved_images/saved_image_page_3.png\n",
            "Saved page 4 as: saved_images/saved_image_page_4.png\n",
            "Saved page 5 as: saved_images/saved_image_page_5.png\n",
            "Saved page 6 as: saved_images/saved_image_page_6.png\n",
            "Saved page 7 as: saved_images/saved_image_page_7.png\n",
            "Saved page 8 as: saved_images/saved_image_page_8.png\n",
            "Saved page 9 as: saved_images/saved_image_page_9.png\n",
            "Saved page 10 as: saved_images/saved_image_page_10.png\n",
            "Saved page 11 as: saved_images/saved_image_page_11.png\n"
          ]
        },
        {
          "output_type": "execute_result",
          "data": {
            "text/plain": [
              "True"
            ]
          },
          "metadata": {},
          "execution_count": 15
        }
      ]
    }
  ]
}